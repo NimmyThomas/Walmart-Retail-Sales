{
 "cells": [
  {
   "cell_type": "markdown",
   "metadata": {},
   "source": [
    "# Modelling -Part -2"
   ]
  },
  {
   "cell_type": "markdown",
   "metadata": {},
   "source": [
    "The weekly sales is being precited using features in dataset.(Not using time series approach)"
   ]
  },
  {
   "cell_type": "code",
   "execution_count": 1,
   "metadata": {},
   "outputs": [],
   "source": [
    "#importing required packages\n",
    "import warnings\n",
    "warnings.filterwarnings(\"ignore\")\n",
    "import numpy as np\n",
    "import pandas as pd\n",
    "import scipy.stats as stats\n",
    "import matplotlib.pyplot as plt\n",
    "import sklearn\n",
    "from sklearn.metrics import r2_score\n",
    "from sklearn.metrics import accuracy_score\n",
    "import seaborn as sns\n",
    "sns.set_style(\"whitegrid\")\n",
    "from sklearn import datasets, linear_model\n",
    "from sklearn.model_selection import train_test_split\n",
    "from sklearn.preprocessing import StandardScaler\n",
    "from datetime import datetime as dt\n",
    "from sklearn.linear_model import Lasso\n",
    "from sklearn.metrics import mean_squared_error\n",
    "from sklearn.model_selection import train_test_split\n",
    "from sklearn.ensemble import ExtraTreesRegressor, RandomForestRegressor, GradientBoostingRegressor \n",
    "from sklearn.neighbors import KNeighborsRegressor\n",
    "from sklearn.linear_model import ElasticNet\n",
    "from sklearn.svm import SVR\n",
    "from sklearn import linear_model\n",
    "from sklearn.feature_selection import RFE\n",
    "from sklearn.neural_network import MLPRegressor\n",
    "from sklearn.metrics import mean_absolute_error\n",
    "from sklearn.model_selection import KFold\n",
    "import matplotlib.pyplot as plt\n",
    "import xgboost as xgb "
   ]
  },
  {
   "cell_type": "code",
   "execution_count": 2,
   "metadata": {},
   "outputs": [],
   "source": [
    "#reading data\n",
    "train=pd.read_csv('train.csv')\n",
    "test=pd.read_csv('test.csv')\n",
    "store=pd.read_csv('stores.csv')\n",
    "feature=pd.read_csv('features.csv')"
   ]
  },
  {
   "cell_type": "code",
   "execution_count": 3,
   "metadata": {},
   "outputs": [],
   "source": [
    "#Merging train and features dataset\n",
    "merge_df=pd.merge(train,feature, on=['Store','Date'], how='inner')"
   ]
  },
  {
   "cell_type": "code",
   "execution_count": 4,
   "metadata": {},
   "outputs": [
    {
     "data": {
      "text/plain": [
       "0   2010-02-05\n",
       "1   2010-02-05\n",
       "2   2010-02-05\n",
       "3   2010-02-05\n",
       "4   2010-02-05\n",
       "Name: DateTimeObj, dtype: datetime64[ns]"
      ]
     },
     "execution_count": 4,
     "metadata": {},
     "output_type": "execute_result"
    }
   ],
   "source": [
    "#Changing date as index\n",
    "merge_df['DateTimeObj']=[dt.strptime(x,'%Y-%m-%d') for x in list(merge_df['Date'])]\n",
    "merge_df['DateTimeObj'].head()"
   ]
  },
  {
   "cell_type": "code",
   "execution_count": 5,
   "metadata": {},
   "outputs": [
    {
     "data": {
      "text/html": [
       "<div>\n",
       "<style scoped>\n",
       "    .dataframe tbody tr th:only-of-type {\n",
       "        vertical-align: middle;\n",
       "    }\n",
       "\n",
       "    .dataframe tbody tr th {\n",
       "        vertical-align: top;\n",
       "    }\n",
       "\n",
       "    .dataframe thead th {\n",
       "        text-align: right;\n",
       "    }\n",
       "</style>\n",
       "<table border=\"1\" class=\"dataframe\">\n",
       "  <thead>\n",
       "    <tr style=\"text-align: right;\">\n",
       "      <th></th>\n",
       "      <th>Store</th>\n",
       "      <th>Dept</th>\n",
       "      <th>Date</th>\n",
       "      <th>Weekly_Sales</th>\n",
       "      <th>IsHoliday_x</th>\n",
       "      <th>Temperature</th>\n",
       "      <th>Fuel_Price</th>\n",
       "      <th>MarkDown1</th>\n",
       "      <th>MarkDown2</th>\n",
       "      <th>MarkDown3</th>\n",
       "      <th>MarkDown4</th>\n",
       "      <th>MarkDown5</th>\n",
       "      <th>CPI</th>\n",
       "      <th>Unemployment</th>\n",
       "      <th>IsHoliday_y</th>\n",
       "      <th>DateTimeObj</th>\n",
       "    </tr>\n",
       "  </thead>\n",
       "  <tbody>\n",
       "    <tr>\n",
       "      <th>0</th>\n",
       "      <td>1</td>\n",
       "      <td>1</td>\n",
       "      <td>2010-02-05</td>\n",
       "      <td>24924.50</td>\n",
       "      <td>False</td>\n",
       "      <td>42.31</td>\n",
       "      <td>2.572</td>\n",
       "      <td>NaN</td>\n",
       "      <td>NaN</td>\n",
       "      <td>NaN</td>\n",
       "      <td>NaN</td>\n",
       "      <td>NaN</td>\n",
       "      <td>211.096358</td>\n",
       "      <td>8.106</td>\n",
       "      <td>False</td>\n",
       "      <td>2010-02-05</td>\n",
       "    </tr>\n",
       "    <tr>\n",
       "      <th>1</th>\n",
       "      <td>1</td>\n",
       "      <td>2</td>\n",
       "      <td>2010-02-05</td>\n",
       "      <td>50605.27</td>\n",
       "      <td>False</td>\n",
       "      <td>42.31</td>\n",
       "      <td>2.572</td>\n",
       "      <td>NaN</td>\n",
       "      <td>NaN</td>\n",
       "      <td>NaN</td>\n",
       "      <td>NaN</td>\n",
       "      <td>NaN</td>\n",
       "      <td>211.096358</td>\n",
       "      <td>8.106</td>\n",
       "      <td>False</td>\n",
       "      <td>2010-02-05</td>\n",
       "    </tr>\n",
       "    <tr>\n",
       "      <th>2</th>\n",
       "      <td>1</td>\n",
       "      <td>3</td>\n",
       "      <td>2010-02-05</td>\n",
       "      <td>13740.12</td>\n",
       "      <td>False</td>\n",
       "      <td>42.31</td>\n",
       "      <td>2.572</td>\n",
       "      <td>NaN</td>\n",
       "      <td>NaN</td>\n",
       "      <td>NaN</td>\n",
       "      <td>NaN</td>\n",
       "      <td>NaN</td>\n",
       "      <td>211.096358</td>\n",
       "      <td>8.106</td>\n",
       "      <td>False</td>\n",
       "      <td>2010-02-05</td>\n",
       "    </tr>\n",
       "  </tbody>\n",
       "</table>\n",
       "</div>"
      ],
      "text/plain": [
       "   Store  Dept        Date  Weekly_Sales  IsHoliday_x  Temperature  \\\n",
       "0      1     1  2010-02-05      24924.50        False        42.31   \n",
       "1      1     2  2010-02-05      50605.27        False        42.31   \n",
       "2      1     3  2010-02-05      13740.12        False        42.31   \n",
       "\n",
       "   Fuel_Price  MarkDown1  MarkDown2  MarkDown3  MarkDown4  MarkDown5  \\\n",
       "0       2.572        NaN        NaN        NaN        NaN        NaN   \n",
       "1       2.572        NaN        NaN        NaN        NaN        NaN   \n",
       "2       2.572        NaN        NaN        NaN        NaN        NaN   \n",
       "\n",
       "          CPI  Unemployment  IsHoliday_y DateTimeObj  \n",
       "0  211.096358         8.106        False  2010-02-05  \n",
       "1  211.096358         8.106        False  2010-02-05  \n",
       "2  211.096358         8.106        False  2010-02-05  "
      ]
     },
     "execution_count": 5,
     "metadata": {},
     "output_type": "execute_result"
    }
   ],
   "source": [
    "merge_df.head(3)"
   ]
  },
  {
   "cell_type": "code",
   "execution_count": 6,
   "metadata": {},
   "outputs": [
    {
     "data": {
      "image/png": "[encoded data removed]",
      "text/plain": [
       "<Figure size 432x288 with 1 Axes>"
      ]
     },
     "metadata": {
      "needs_background": "light"
     },
     "output_type": "display_data"
    }
   ],
   "source": [
    "#Plotting  weekly sales of store 1 versus date \n",
    "plt.plot(merge_df[(merge_df.Store==1)].DateTimeObj, merge_df[(merge_df.Store==1)].Weekly_Sales, 'ro')\n",
    "plt.show()"
   ]
  },
  {
   "cell_type": "code",
   "execution_count": 7,
   "metadata": {},
   "outputs": [
    {
     "data": {
      "text/plain": [
       "Store  Date      \n",
       "1      2010-02-05    1643690.90\n",
       "       2010-02-12    1641957.44\n",
       "       2010-02-19    1611968.17\n",
       "       2010-02-26    1409727.59\n",
       "Name: Weekly_Sales, dtype: float64"
      ]
     },
     "execution_count": 7,
     "metadata": {},
     "output_type": "execute_result"
    }
   ],
   "source": [
    "#Plotting weekly sales storewise\n",
    "weeklysales=merge_df.groupby(['Store','Date'])['Weekly_Sales'].apply(lambda x:np.sum(x))\n",
    "weeklysales[0:4]"
   ]
  },
  {
   "cell_type": "code",
   "execution_count": 8,
   "metadata": {},
   "outputs": [
    {
     "data": {
      "text/plain": [
       "Store  Dept\n",
       "1      1       3219405.18\n",
       "       2       6592598.93\n",
       "       3       1880518.36\n",
       "       4       5285874.09\n",
       "       5       3468885.58\n",
       "Name: Weekly_Sales, dtype: float64"
      ]
     },
     "execution_count": 8,
     "metadata": {},
     "output_type": "execute_result"
    }
   ],
   "source": [
    "#Plotting weekly sales departmentwise\n",
    "weeklysaledept=merge_df.groupby(['Store','Dept'])['Weekly_Sales'].apply(lambda x:np.sum(x))\n",
    "weeklysaledept[0:5]"
   ]
  },
  {
   "cell_type": "code",
   "execution_count": 9,
   "metadata": {},
   "outputs": [
    {
     "data": {
      "text/html": [
       "<div>\n",
       "<style scoped>\n",
       "    .dataframe tbody tr th:only-of-type {\n",
       "        vertical-align: middle;\n",
       "    }\n",
       "\n",
       "    .dataframe tbody tr th {\n",
       "        vertical-align: top;\n",
       "    }\n",
       "\n",
       "    .dataframe thead th {\n",
       "        text-align: right;\n",
       "    }\n",
       "</style>\n",
       "<table border=\"1\" class=\"dataframe\">\n",
       "  <thead>\n",
       "    <tr style=\"text-align: right;\">\n",
       "      <th></th>\n",
       "      <th>Store</th>\n",
       "      <th>Date</th>\n",
       "      <th>Weekly_Sales</th>\n",
       "    </tr>\n",
       "  </thead>\n",
       "  <tbody>\n",
       "    <tr>\n",
       "      <th>0</th>\n",
       "      <td>1</td>\n",
       "      <td>2010-02-05</td>\n",
       "      <td>1643690.90</td>\n",
       "    </tr>\n",
       "    <tr>\n",
       "      <th>1</th>\n",
       "      <td>1</td>\n",
       "      <td>2010-02-12</td>\n",
       "      <td>1641957.44</td>\n",
       "    </tr>\n",
       "    <tr>\n",
       "      <th>2</th>\n",
       "      <td>1</td>\n",
       "      <td>2010-02-19</td>\n",
       "      <td>1611968.17</td>\n",
       "    </tr>\n",
       "    <tr>\n",
       "      <th>3</th>\n",
       "      <td>1</td>\n",
       "      <td>2010-02-26</td>\n",
       "      <td>1409727.59</td>\n",
       "    </tr>\n",
       "    <tr>\n",
       "      <th>4</th>\n",
       "      <td>1</td>\n",
       "      <td>2010-03-05</td>\n",
       "      <td>1554806.68</td>\n",
       "    </tr>\n",
       "  </tbody>\n",
       "</table>\n",
       "</div>"
      ],
      "text/plain": [
       "   Store        Date  Weekly_Sales\n",
       "0      1  2010-02-05    1643690.90\n",
       "1      1  2010-02-12    1641957.44\n",
       "2      1  2010-02-19    1611968.17\n",
       "3      1  2010-02-26    1409727.59\n",
       "4      1  2010-03-05    1554806.68"
      ]
     },
     "execution_count": 9,
     "metadata": {},
     "output_type": "execute_result"
    }
   ],
   "source": [
    "#Our approach is storewise,so taking that dataframe and resetting index\n",
    "weeklyscale=weeklysales.reset_index()\n",
    "weeklyscale[0:5]"
   ]
  },
  {
   "cell_type": "code",
   "execution_count": 10,
   "metadata": {},
   "outputs": [
    {
     "data": {
      "text/html": [
       "<div>\n",
       "<style scoped>\n",
       "    .dataframe tbody tr th:only-of-type {\n",
       "        vertical-align: middle;\n",
       "    }\n",
       "\n",
       "    .dataframe tbody tr th {\n",
       "        vertical-align: top;\n",
       "    }\n",
       "\n",
       "    .dataframe thead th {\n",
       "        text-align: right;\n",
       "    }\n",
       "</style>\n",
       "<table border=\"1\" class=\"dataframe\">\n",
       "  <thead>\n",
       "    <tr style=\"text-align: right;\">\n",
       "      <th></th>\n",
       "      <th>Store</th>\n",
       "      <th>Date</th>\n",
       "      <th>Weekly_Sales</th>\n",
       "      <th>Temperature</th>\n",
       "      <th>Fuel_Price</th>\n",
       "      <th>MarkDown1</th>\n",
       "      <th>MarkDown2</th>\n",
       "      <th>MarkDown3</th>\n",
       "      <th>MarkDown4</th>\n",
       "      <th>MarkDown5</th>\n",
       "      <th>CPI</th>\n",
       "      <th>Unemployment</th>\n",
       "      <th>IsHoliday</th>\n",
       "    </tr>\n",
       "  </thead>\n",
       "  <tbody>\n",
       "    <tr>\n",
       "      <th>0</th>\n",
       "      <td>1</td>\n",
       "      <td>2010-02-05</td>\n",
       "      <td>1643690.90</td>\n",
       "      <td>42.31</td>\n",
       "      <td>2.572</td>\n",
       "      <td>NaN</td>\n",
       "      <td>NaN</td>\n",
       "      <td>NaN</td>\n",
       "      <td>NaN</td>\n",
       "      <td>NaN</td>\n",
       "      <td>211.096358</td>\n",
       "      <td>8.106</td>\n",
       "      <td>False</td>\n",
       "    </tr>\n",
       "    <tr>\n",
       "      <th>1</th>\n",
       "      <td>1</td>\n",
       "      <td>2010-02-12</td>\n",
       "      <td>1641957.44</td>\n",
       "      <td>38.51</td>\n",
       "      <td>2.548</td>\n",
       "      <td>NaN</td>\n",
       "      <td>NaN</td>\n",
       "      <td>NaN</td>\n",
       "      <td>NaN</td>\n",
       "      <td>NaN</td>\n",
       "      <td>211.242170</td>\n",
       "      <td>8.106</td>\n",
       "      <td>True</td>\n",
       "    </tr>\n",
       "    <tr>\n",
       "      <th>2</th>\n",
       "      <td>1</td>\n",
       "      <td>2010-02-19</td>\n",
       "      <td>1611968.17</td>\n",
       "      <td>39.93</td>\n",
       "      <td>2.514</td>\n",
       "      <td>NaN</td>\n",
       "      <td>NaN</td>\n",
       "      <td>NaN</td>\n",
       "      <td>NaN</td>\n",
       "      <td>NaN</td>\n",
       "      <td>211.289143</td>\n",
       "      <td>8.106</td>\n",
       "      <td>False</td>\n",
       "    </tr>\n",
       "    <tr>\n",
       "      <th>3</th>\n",
       "      <td>1</td>\n",
       "      <td>2010-02-26</td>\n",
       "      <td>1409727.59</td>\n",
       "      <td>46.63</td>\n",
       "      <td>2.561</td>\n",
       "      <td>NaN</td>\n",
       "      <td>NaN</td>\n",
       "      <td>NaN</td>\n",
       "      <td>NaN</td>\n",
       "      <td>NaN</td>\n",
       "      <td>211.319643</td>\n",
       "      <td>8.106</td>\n",
       "      <td>False</td>\n",
       "    </tr>\n",
       "    <tr>\n",
       "      <th>4</th>\n",
       "      <td>1</td>\n",
       "      <td>2010-03-05</td>\n",
       "      <td>1554806.68</td>\n",
       "      <td>46.50</td>\n",
       "      <td>2.625</td>\n",
       "      <td>NaN</td>\n",
       "      <td>NaN</td>\n",
       "      <td>NaN</td>\n",
       "      <td>NaN</td>\n",
       "      <td>NaN</td>\n",
       "      <td>211.350143</td>\n",
       "      <td>8.106</td>\n",
       "      <td>False</td>\n",
       "    </tr>\n",
       "  </tbody>\n",
       "</table>\n",
       "</div>"
      ],
      "text/plain": [
       "   Store        Date  Weekly_Sales  Temperature  Fuel_Price  MarkDown1  \\\n",
       "0      1  2010-02-05    1643690.90        42.31       2.572        NaN   \n",
       "1      1  2010-02-12    1641957.44        38.51       2.548        NaN   \n",
       "2      1  2010-02-19    1611968.17        39.93       2.514        NaN   \n",
       "3      1  2010-02-26    1409727.59        46.63       2.561        NaN   \n",
       "4      1  2010-03-05    1554806.68        46.50       2.625        NaN   \n",
       "\n",
       "   MarkDown2  MarkDown3  MarkDown4  MarkDown5         CPI  Unemployment  \\\n",
       "0        NaN        NaN        NaN        NaN  211.096358         8.106   \n",
       "1        NaN        NaN        NaN        NaN  211.242170         8.106   \n",
       "2        NaN        NaN        NaN        NaN  211.289143         8.106   \n",
       "3        NaN        NaN        NaN        NaN  211.319643         8.106   \n",
       "4        NaN        NaN        NaN        NaN  211.350143         8.106   \n",
       "\n",
       "   IsHoliday  \n",
       "0      False  \n",
       "1       True  \n",
       "2      False  \n",
       "3      False  \n",
       "4      False  "
      ]
     },
     "execution_count": 10,
     "metadata": {},
     "output_type": "execute_result"
    }
   ],
   "source": [
    "#Merging feature and weekly salers storewise\n",
    "walmartstore=pd.merge(weeklyscale, feature, on=['Store', 'Date'], how='inner')\n",
    "walmartstore.head()"
   ]
  },
  {
   "cell_type": "code",
   "execution_count": 11,
   "metadata": {},
   "outputs": [],
   "source": [
    "#Removing markdowns offer\n",
    "walmartstoredf = walmartstore.iloc[:, list(range(5)) + list(range(10,13))]"
   ]
  },
  {
   "cell_type": "code",
   "execution_count": 12,
   "metadata": {},
   "outputs": [],
   "source": [
    "#Resetting index\n",
    "walmartstoredf['DateTimeObj'] = [dt.strptime(x, '%Y-%m-%d') for x in list(walmartstoredf['Date'])]\n",
    "weekNo=walmartstoredf.reset_index()"
   ]
  },
  {
   "cell_type": "code",
   "execution_count": 13,
   "metadata": {},
   "outputs": [],
   "source": [
    "#Adding an additional colum specifying week number\n",
    "weekNo = [(x - walmartstoredf['DateTimeObj'][0]) for x in list(walmartstoredf['DateTimeObj'])]"
   ]
  },
  {
   "cell_type": "code",
   "execution_count": 14,
   "metadata": {},
   "outputs": [],
   "source": [
    "walmartstoredf['Week'] = [np.timedelta64(x, 'D').astype(int)/7 for x in weekNo]"
   ]
  },
  {
   "cell_type": "code",
   "execution_count": 15,
   "metadata": {},
   "outputs": [
    {
     "data": {
      "text/html": [
       "<div>\n",
       "<style scoped>\n",
       "    .dataframe tbody tr th:only-of-type {\n",
       "        vertical-align: middle;\n",
       "    }\n",
       "\n",
       "    .dataframe tbody tr th {\n",
       "        vertical-align: top;\n",
       "    }\n",
       "\n",
       "    .dataframe thead th {\n",
       "        text-align: right;\n",
       "    }\n",
       "</style>\n",
       "<table border=\"1\" class=\"dataframe\">\n",
       "  <thead>\n",
       "    <tr style=\"text-align: right;\">\n",
       "      <th></th>\n",
       "      <th>Store</th>\n",
       "      <th>Date</th>\n",
       "      <th>Weekly_Sales</th>\n",
       "      <th>Temperature</th>\n",
       "      <th>Fuel_Price</th>\n",
       "      <th>CPI</th>\n",
       "      <th>Unemployment</th>\n",
       "      <th>IsHoliday</th>\n",
       "      <th>DateTimeObj</th>\n",
       "      <th>Week</th>\n",
       "    </tr>\n",
       "  </thead>\n",
       "  <tbody>\n",
       "    <tr>\n",
       "      <th>0</th>\n",
       "      <td>1</td>\n",
       "      <td>2010-02-05</td>\n",
       "      <td>1643690.90</td>\n",
       "      <td>42.31</td>\n",
       "      <td>2.572</td>\n",
       "      <td>211.096358</td>\n",
       "      <td>8.106</td>\n",
       "      <td>False</td>\n",
       "      <td>2010-02-05</td>\n",
       "      <td>0.0</td>\n",
       "    </tr>\n",
       "    <tr>\n",
       "      <th>1</th>\n",
       "      <td>1</td>\n",
       "      <td>2010-02-12</td>\n",
       "      <td>1641957.44</td>\n",
       "      <td>38.51</td>\n",
       "      <td>2.548</td>\n",
       "      <td>211.242170</td>\n",
       "      <td>8.106</td>\n",
       "      <td>True</td>\n",
       "      <td>2010-02-12</td>\n",
       "      <td>1.0</td>\n",
       "    </tr>\n",
       "    <tr>\n",
       "      <th>2</th>\n",
       "      <td>1</td>\n",
       "      <td>2010-02-19</td>\n",
       "      <td>1611968.17</td>\n",
       "      <td>39.93</td>\n",
       "      <td>2.514</td>\n",
       "      <td>211.289143</td>\n",
       "      <td>8.106</td>\n",
       "      <td>False</td>\n",
       "      <td>2010-02-19</td>\n",
       "      <td>2.0</td>\n",
       "    </tr>\n",
       "    <tr>\n",
       "      <th>3</th>\n",
       "      <td>1</td>\n",
       "      <td>2010-02-26</td>\n",
       "      <td>1409727.59</td>\n",
       "      <td>46.63</td>\n",
       "      <td>2.561</td>\n",
       "      <td>211.319643</td>\n",
       "      <td>8.106</td>\n",
       "      <td>False</td>\n",
       "      <td>2010-02-26</td>\n",
       "      <td>3.0</td>\n",
       "    </tr>\n",
       "    <tr>\n",
       "      <th>4</th>\n",
       "      <td>1</td>\n",
       "      <td>2010-03-05</td>\n",
       "      <td>1554806.68</td>\n",
       "      <td>46.50</td>\n",
       "      <td>2.625</td>\n",
       "      <td>211.350143</td>\n",
       "      <td>8.106</td>\n",
       "      <td>False</td>\n",
       "      <td>2010-03-05</td>\n",
       "      <td>4.0</td>\n",
       "    </tr>\n",
       "  </tbody>\n",
       "</table>\n",
       "</div>"
      ],
      "text/plain": [
       "   Store        Date  Weekly_Sales  Temperature  Fuel_Price         CPI  \\\n",
       "0      1  2010-02-05    1643690.90        42.31       2.572  211.096358   \n",
       "1      1  2010-02-12    1641957.44        38.51       2.548  211.242170   \n",
       "2      1  2010-02-19    1611968.17        39.93       2.514  211.289143   \n",
       "3      1  2010-02-26    1409727.59        46.63       2.561  211.319643   \n",
       "4      1  2010-03-05    1554806.68        46.50       2.625  211.350143   \n",
       "\n",
       "   Unemployment  IsHoliday DateTimeObj  Week  \n",
       "0         8.106      False  2010-02-05   0.0  \n",
       "1         8.106       True  2010-02-12   1.0  \n",
       "2         8.106      False  2010-02-19   2.0  \n",
       "3         8.106      False  2010-02-26   3.0  \n",
       "4         8.106      False  2010-03-05   4.0  "
      ]
     },
     "execution_count": 15,
     "metadata": {},
     "output_type": "execute_result"
    }
   ],
   "source": [
    "walmartstoredf.head()"
   ]
  },
  {
   "cell_type": "code",
   "execution_count": 16,
   "metadata": {},
   "outputs": [
    {
     "data": {
      "image/png": "[encoded data removed]",
      "text/plain": [
       "<Figure size 432x288 with 1 Axes>"
      ]
     },
     "metadata": {
      "needs_background": "light"
     },
     "output_type": "display_data"
    }
   ],
   "source": [
    "plt.plot(walmartstoredf.DateTimeObj, walmartstoredf.Weekly_Sales, 'ro')\n",
    "plt.show()"
   ]
  },
  {
   "cell_type": "code",
   "execution_count": 17,
   "metadata": {},
   "outputs": [
    {
     "data": {
      "text/html": [
       "<div>\n",
       "<style scoped>\n",
       "    .dataframe tbody tr th:only-of-type {\n",
       "        vertical-align: middle;\n",
       "    }\n",
       "\n",
       "    .dataframe tbody tr th {\n",
       "        vertical-align: top;\n",
       "    }\n",
       "\n",
       "    .dataframe thead th {\n",
       "        text-align: right;\n",
       "    }\n",
       "</style>\n",
       "<table border=\"1\" class=\"dataframe\">\n",
       "  <thead>\n",
       "    <tr style=\"text-align: right;\">\n",
       "      <th></th>\n",
       "      <th>Store</th>\n",
       "      <th>Date</th>\n",
       "      <th>Weekly_Sales</th>\n",
       "      <th>Temperature</th>\n",
       "      <th>Fuel_Price</th>\n",
       "      <th>CPI</th>\n",
       "      <th>Unemployment</th>\n",
       "      <th>IsHoliday</th>\n",
       "      <th>DateTimeObj</th>\n",
       "      <th>Week</th>\n",
       "      <th>IsHolidayInt</th>\n",
       "    </tr>\n",
       "  </thead>\n",
       "  <tbody>\n",
       "    <tr>\n",
       "      <th>0</th>\n",
       "      <td>1</td>\n",
       "      <td>2010-02-05</td>\n",
       "      <td>1643690.90</td>\n",
       "      <td>42.31</td>\n",
       "      <td>2.572</td>\n",
       "      <td>211.096358</td>\n",
       "      <td>8.106</td>\n",
       "      <td>False</td>\n",
       "      <td>2010-02-05</td>\n",
       "      <td>0.0</td>\n",
       "      <td>0</td>\n",
       "    </tr>\n",
       "    <tr>\n",
       "      <th>1</th>\n",
       "      <td>1</td>\n",
       "      <td>2010-02-12</td>\n",
       "      <td>1641957.44</td>\n",
       "      <td>38.51</td>\n",
       "      <td>2.548</td>\n",
       "      <td>211.242170</td>\n",
       "      <td>8.106</td>\n",
       "      <td>True</td>\n",
       "      <td>2010-02-12</td>\n",
       "      <td>1.0</td>\n",
       "      <td>1</td>\n",
       "    </tr>\n",
       "    <tr>\n",
       "      <th>2</th>\n",
       "      <td>1</td>\n",
       "      <td>2010-02-19</td>\n",
       "      <td>1611968.17</td>\n",
       "      <td>39.93</td>\n",
       "      <td>2.514</td>\n",
       "      <td>211.289143</td>\n",
       "      <td>8.106</td>\n",
       "      <td>False</td>\n",
       "      <td>2010-02-19</td>\n",
       "      <td>2.0</td>\n",
       "      <td>0</td>\n",
       "    </tr>\n",
       "    <tr>\n",
       "      <th>3</th>\n",
       "      <td>1</td>\n",
       "      <td>2010-02-26</td>\n",
       "      <td>1409727.59</td>\n",
       "      <td>46.63</td>\n",
       "      <td>2.561</td>\n",
       "      <td>211.319643</td>\n",
       "      <td>8.106</td>\n",
       "      <td>False</td>\n",
       "      <td>2010-02-26</td>\n",
       "      <td>3.0</td>\n",
       "      <td>0</td>\n",
       "    </tr>\n",
       "    <tr>\n",
       "      <th>4</th>\n",
       "      <td>1</td>\n",
       "      <td>2010-03-05</td>\n",
       "      <td>1554806.68</td>\n",
       "      <td>46.50</td>\n",
       "      <td>2.625</td>\n",
       "      <td>211.350143</td>\n",
       "      <td>8.106</td>\n",
       "      <td>False</td>\n",
       "      <td>2010-03-05</td>\n",
       "      <td>4.0</td>\n",
       "      <td>0</td>\n",
       "    </tr>\n",
       "    <tr>\n",
       "      <th>5</th>\n",
       "      <td>1</td>\n",
       "      <td>2010-03-12</td>\n",
       "      <td>1439541.59</td>\n",
       "      <td>57.79</td>\n",
       "      <td>2.667</td>\n",
       "      <td>211.380643</td>\n",
       "      <td>8.106</td>\n",
       "      <td>False</td>\n",
       "      <td>2010-03-12</td>\n",
       "      <td>5.0</td>\n",
       "      <td>0</td>\n",
       "    </tr>\n",
       "  </tbody>\n",
       "</table>\n",
       "</div>"
      ],
      "text/plain": [
       "   Store        Date  Weekly_Sales  Temperature  Fuel_Price         CPI  \\\n",
       "0      1  2010-02-05    1643690.90        42.31       2.572  211.096358   \n",
       "1      1  2010-02-12    1641957.44        38.51       2.548  211.242170   \n",
       "2      1  2010-02-19    1611968.17        39.93       2.514  211.289143   \n",
       "3      1  2010-02-26    1409727.59        46.63       2.561  211.319643   \n",
       "4      1  2010-03-05    1554806.68        46.50       2.625  211.350143   \n",
       "5      1  2010-03-12    1439541.59        57.79       2.667  211.380643   \n",
       "\n",
       "   Unemployment  IsHoliday DateTimeObj  Week  IsHolidayInt  \n",
       "0         8.106      False  2010-02-05   0.0             0  \n",
       "1         8.106       True  2010-02-12   1.0             1  \n",
       "2         8.106      False  2010-02-19   2.0             0  \n",
       "3         8.106      False  2010-02-26   3.0             0  \n",
       "4         8.106      False  2010-03-05   4.0             0  \n",
       "5         8.106      False  2010-03-12   5.0             0  "
      ]
     },
     "execution_count": 17,
     "metadata": {},
     "output_type": "execute_result"
    }
   ],
   "source": [
    "#Integer value for is_holiday \n",
    "walmartstoredf['IsHolidayInt'] = [int(x) for x in list(walmartstoredf.IsHoliday)]\n",
    "walmartstoredf.head(6)"
   ]
  },
  {
   "cell_type": "code",
   "execution_count": 18,
   "metadata": {},
   "outputs": [],
   "source": [
    "#train test split\n",
    "train_WM, test_WM = train_test_split(walmartstoredf, test_size=0.3,random_state=42)"
   ]
  },
  {
   "cell_type": "code",
   "execution_count": 19,
   "metadata": {},
   "outputs": [],
   "source": [
    "XTrain = train_WM[['Temperature', 'Fuel_Price', 'CPI', 'Unemployment', 'Week', 'IsHolidayInt']]\n",
    "YTrain = train_WM['Weekly_Sales']"
   ]
  },
  {
   "cell_type": "code",
   "execution_count": 20,
   "metadata": {},
   "outputs": [],
   "source": [
    "XTest = test_WM[['Temperature', 'Fuel_Price', 'CPI', 'Unemployment', 'Week', 'IsHolidayInt']]\n",
    "YTest = test_WM['Weekly_Sales']"
   ]
  },
  {
   "cell_type": "code",
   "execution_count": 21,
   "metadata": {},
   "outputs": [
    {
     "data": {
      "text/plain": [
       "LinearRegression(copy_X=True, fit_intercept=True, n_jobs=None, normalize=True)"
      ]
     },
     "execution_count": 21,
     "metadata": {},
     "output_type": "execute_result"
    }
   ],
   "source": [
    "#Instantiate\n",
    "wmLinear = linear_model.LinearRegression(normalize=True)\n",
    "#Fit\n",
    "wmLinear.fit(XTrain, YTrain)"
   ]
  },
  {
   "cell_type": "code",
   "execution_count": 22,
   "metadata": {},
   "outputs": [],
   "source": [
    "#Performance/Predict on the test data sets\n",
    "YHatTest = wmLinear.predict(XTest)"
   ]
  },
  {
   "cell_type": "code",
   "execution_count": 23,
   "metadata": {},
   "outputs": [
    {
     "data": {
      "image/png": "[encoded data removed]",
      "text/plain": [
       "<Figure size 432x288 with 1 Axes>"
      ]
     },
     "metadata": {
      "needs_background": "light"
     },
     "output_type": "display_data"
    }
   ],
   "source": [
    "#Plot Predicted and actual values for test and train\n",
    "plt.plot(YTest, YHatTest,'ro')\n",
    "plt.plot(YTest, YTest,'b-')\n",
    "plt.show()"
   ]
  },
  {
   "cell_type": "code",
   "execution_count": 24,
   "metadata": {},
   "outputs": [
    {
     "name": "stdout",
     "output_type": "stream",
     "text": [
      "0.018399963104079542\n",
      "0.6647628870821394 313837794216.65875\n"
     ]
    }
   ],
   "source": [
    "# calculate the accuray of the model by sum of Square and mean absolute prediction error\n",
    "MAPE = np.mean(abs((YTest - YHatTest)/YTest))\n",
    "MSSE = np.mean(np.square(YHatTest - YTest))\n",
    "print(r2_score(YTest,YHatTest))\n",
    "print(MAPE, MSSE)\n"
   ]
  },
  {
   "cell_type": "markdown",
   "metadata": {},
   "source": [
    "The accuracy is very low using only numerical columns.Lets use entire dataset for modelling."
   ]
  },
  {
   "cell_type": "code",
   "execution_count": 25,
   "metadata": {},
   "outputs": [],
   "source": [
    "#Get dummies\n",
    "Store_Dummies = pd.get_dummies(walmartstoredf.Store, prefix='Store').iloc[:,1:]\n",
    "walmartstoredf = pd.concat([walmartstoredf, Store_Dummies], axis=1)"
   ]
  },
  {
   "cell_type": "code",
   "execution_count": 26,
   "metadata": {},
   "outputs": [
    {
     "data": {
      "text/html": [
       "<div>\n",
       "<style scoped>\n",
       "    .dataframe tbody tr th:only-of-type {\n",
       "        vertical-align: middle;\n",
       "    }\n",
       "\n",
       "    .dataframe tbody tr th {\n",
       "        vertical-align: top;\n",
       "    }\n",
       "\n",
       "    .dataframe thead th {\n",
       "        text-align: right;\n",
       "    }\n",
       "</style>\n",
       "<table border=\"1\" class=\"dataframe\">\n",
       "  <thead>\n",
       "    <tr style=\"text-align: right;\">\n",
       "      <th></th>\n",
       "      <th>Store</th>\n",
       "      <th>Date</th>\n",
       "      <th>Weekly_Sales</th>\n",
       "      <th>Temperature</th>\n",
       "      <th>Fuel_Price</th>\n",
       "      <th>CPI</th>\n",
       "      <th>Unemployment</th>\n",
       "      <th>IsHoliday</th>\n",
       "      <th>DateTimeObj</th>\n",
       "      <th>Week</th>\n",
       "      <th>...</th>\n",
       "      <th>Store_36</th>\n",
       "      <th>Store_37</th>\n",
       "      <th>Store_38</th>\n",
       "      <th>Store_39</th>\n",
       "      <th>Store_40</th>\n",
       "      <th>Store_41</th>\n",
       "      <th>Store_42</th>\n",
       "      <th>Store_43</th>\n",
       "      <th>Store_44</th>\n",
       "      <th>Store_45</th>\n",
       "    </tr>\n",
       "  </thead>\n",
       "  <tbody>\n",
       "    <tr>\n",
       "      <th>0</th>\n",
       "      <td>1</td>\n",
       "      <td>2010-02-05</td>\n",
       "      <td>1643690.90</td>\n",
       "      <td>42.31</td>\n",
       "      <td>2.572</td>\n",
       "      <td>211.096358</td>\n",
       "      <td>8.106</td>\n",
       "      <td>False</td>\n",
       "      <td>2010-02-05</td>\n",
       "      <td>0.0</td>\n",
       "      <td>...</td>\n",
       "      <td>0</td>\n",
       "      <td>0</td>\n",
       "      <td>0</td>\n",
       "      <td>0</td>\n",
       "      <td>0</td>\n",
       "      <td>0</td>\n",
       "      <td>0</td>\n",
       "      <td>0</td>\n",
       "      <td>0</td>\n",
       "      <td>0</td>\n",
       "    </tr>\n",
       "    <tr>\n",
       "      <th>1</th>\n",
       "      <td>1</td>\n",
       "      <td>2010-02-12</td>\n",
       "      <td>1641957.44</td>\n",
       "      <td>38.51</td>\n",
       "      <td>2.548</td>\n",
       "      <td>211.242170</td>\n",
       "      <td>8.106</td>\n",
       "      <td>True</td>\n",
       "      <td>2010-02-12</td>\n",
       "      <td>1.0</td>\n",
       "      <td>...</td>\n",
       "      <td>0</td>\n",
       "      <td>0</td>\n",
       "      <td>0</td>\n",
       "      <td>0</td>\n",
       "      <td>0</td>\n",
       "      <td>0</td>\n",
       "      <td>0</td>\n",
       "      <td>0</td>\n",
       "      <td>0</td>\n",
       "      <td>0</td>\n",
       "    </tr>\n",
       "    <tr>\n",
       "      <th>2</th>\n",
       "      <td>1</td>\n",
       "      <td>2010-02-19</td>\n",
       "      <td>1611968.17</td>\n",
       "      <td>39.93</td>\n",
       "      <td>2.514</td>\n",
       "      <td>211.289143</td>\n",
       "      <td>8.106</td>\n",
       "      <td>False</td>\n",
       "      <td>2010-02-19</td>\n",
       "      <td>2.0</td>\n",
       "      <td>...</td>\n",
       "      <td>0</td>\n",
       "      <td>0</td>\n",
       "      <td>0</td>\n",
       "      <td>0</td>\n",
       "      <td>0</td>\n",
       "      <td>0</td>\n",
       "      <td>0</td>\n",
       "      <td>0</td>\n",
       "      <td>0</td>\n",
       "      <td>0</td>\n",
       "    </tr>\n",
       "    <tr>\n",
       "      <th>3</th>\n",
       "      <td>1</td>\n",
       "      <td>2010-02-26</td>\n",
       "      <td>1409727.59</td>\n",
       "      <td>46.63</td>\n",
       "      <td>2.561</td>\n",
       "      <td>211.319643</td>\n",
       "      <td>8.106</td>\n",
       "      <td>False</td>\n",
       "      <td>2010-02-26</td>\n",
       "      <td>3.0</td>\n",
       "      <td>...</td>\n",
       "      <td>0</td>\n",
       "      <td>0</td>\n",
       "      <td>0</td>\n",
       "      <td>0</td>\n",
       "      <td>0</td>\n",
       "      <td>0</td>\n",
       "      <td>0</td>\n",
       "      <td>0</td>\n",
       "      <td>0</td>\n",
       "      <td>0</td>\n",
       "    </tr>\n",
       "    <tr>\n",
       "      <th>4</th>\n",
       "      <td>1</td>\n",
       "      <td>2010-03-05</td>\n",
       "      <td>1554806.68</td>\n",
       "      <td>46.50</td>\n",
       "      <td>2.625</td>\n",
       "      <td>211.350143</td>\n",
       "      <td>8.106</td>\n",
       "      <td>False</td>\n",
       "      <td>2010-03-05</td>\n",
       "      <td>4.0</td>\n",
       "      <td>...</td>\n",
       "      <td>0</td>\n",
       "      <td>0</td>\n",
       "      <td>0</td>\n",
       "      <td>0</td>\n",
       "      <td>0</td>\n",
       "      <td>0</td>\n",
       "      <td>0</td>\n",
       "      <td>0</td>\n",
       "      <td>0</td>\n",
       "      <td>0</td>\n",
       "    </tr>\n",
       "    <tr>\n",
       "      <th>5</th>\n",
       "      <td>1</td>\n",
       "      <td>2010-03-12</td>\n",
       "      <td>1439541.59</td>\n",
       "      <td>57.79</td>\n",
       "      <td>2.667</td>\n",
       "      <td>211.380643</td>\n",
       "      <td>8.106</td>\n",
       "      <td>False</td>\n",
       "      <td>2010-03-12</td>\n",
       "      <td>5.0</td>\n",
       "      <td>...</td>\n",
       "      <td>0</td>\n",
       "      <td>0</td>\n",
       "      <td>0</td>\n",
       "      <td>0</td>\n",
       "      <td>0</td>\n",
       "      <td>0</td>\n",
       "      <td>0</td>\n",
       "      <td>0</td>\n",
       "      <td>0</td>\n",
       "      <td>0</td>\n",
       "    </tr>\n",
       "  </tbody>\n",
       "</table>\n",
       "<p>6 rows × 55 columns</p>\n",
       "</div>"
      ],
      "text/plain": [
       "   Store        Date  Weekly_Sales  Temperature  Fuel_Price         CPI  \\\n",
       "0      1  2010-02-05    1643690.90        42.31       2.572  211.096358   \n",
       "1      1  2010-02-12    1641957.44        38.51       2.548  211.242170   \n",
       "2      1  2010-02-19    1611968.17        39.93       2.514  211.289143   \n",
       "3      1  2010-02-26    1409727.59        46.63       2.561  211.319643   \n",
       "4      1  2010-03-05    1554806.68        46.50       2.625  211.350143   \n",
       "5      1  2010-03-12    1439541.59        57.79       2.667  211.380643   \n",
       "\n",
       "   Unemployment  IsHoliday DateTimeObj  Week  ...  Store_36  Store_37  \\\n",
       "0         8.106      False  2010-02-05   0.0  ...         0         0   \n",
       "1         8.106       True  2010-02-12   1.0  ...         0         0   \n",
       "2         8.106      False  2010-02-19   2.0  ...         0         0   \n",
       "3         8.106      False  2010-02-26   3.0  ...         0         0   \n",
       "4         8.106      False  2010-03-05   4.0  ...         0         0   \n",
       "5         8.106      False  2010-03-12   5.0  ...         0         0   \n",
       "\n",
       "   Store_38  Store_39  Store_40  Store_41  Store_42  Store_43  Store_44  \\\n",
       "0         0         0         0         0         0         0         0   \n",
       "1         0         0         0         0         0         0         0   \n",
       "2         0         0         0         0         0         0         0   \n",
       "3         0         0         0         0         0         0         0   \n",
       "4         0         0         0         0         0         0         0   \n",
       "5         0         0         0         0         0         0         0   \n",
       "\n",
       "   Store_45  \n",
       "0         0  \n",
       "1         0  \n",
       "2         0  \n",
       "3         0  \n",
       "4         0  \n",
       "5         0  \n",
       "\n",
       "[6 rows x 55 columns]"
      ]
     },
     "execution_count": 26,
     "metadata": {},
     "output_type": "execute_result"
    }
   ],
   "source": [
    "walmartstoredf.head(6)"
   ]
  },
  {
   "cell_type": "code",
   "execution_count": 27,
   "metadata": {},
   "outputs": [],
   "source": [
    "#Train test split\n",
    "train_WM, test_WM = train_test_split(walmartstoredf, test_size=0.3,random_state=42)\n",
    "XTrain = train_WM.iloc[:,([3,4,5,6] + [9,10]) + list(range(11,walmartstoredf.shape[1]))]\n",
    "yTrain = train_WM.Weekly_Sales\n",
    "                                                    \n",
    "XTest = test_WM.iloc[:,([3,4,5,6] + [9,10]) + list(range(11,walmartstoredf.shape[1]))]\n",
    "yTest=test_WM.Weekly_Sales"
   ]
  },
  {
   "cell_type": "code",
   "execution_count": 28,
   "metadata": {},
   "outputs": [],
   "source": [
    "from sklearn import preprocessing\n",
    "scaler = preprocessing.StandardScaler()\n",
    "scaler.fit(XTrain)\n",
    "X_transformed_train= scaler.transform(XTrain)\n",
    "X_transformed_test= scaler.transform(XTest)"
   ]
  },
  {
   "cell_type": "markdown",
   "metadata": {},
   "source": [
    "#### 1.Linear Regression"
   ]
  },
  {
   "cell_type": "code",
   "execution_count": 29,
   "metadata": {},
   "outputs": [
    {
     "data": {
      "text/plain": [
       "LinearRegression(copy_X=True, fit_intercept=True, n_jobs=None, normalize=True)"
      ]
     },
     "execution_count": 29,
     "metadata": {},
     "output_type": "execute_result"
    }
   ],
   "source": [
    "#Instantiate \n",
    "wmLinear = linear_model.LinearRegression(normalize=True)\n",
    "#fit\n",
    "wmLinear.fit(XTrain, YTrain)"
   ]
  },
  {
   "cell_type": "code",
   "execution_count": 30,
   "metadata": {},
   "outputs": [
    {
     "data": {
      "image/png": "[encoded data removed]",
      "text/plain": [
       "<Figure size 432x288 with 1 Axes>"
      ]
     },
     "metadata": {
      "needs_background": "light"
     },
     "output_type": "display_data"
    }
   ],
   "source": [
    "#Performance on the test data sets\n",
    "YHatTest = wmLinear.predict(XTest)\n",
    "plt.plot(YTest, YHatTest,'ro')\n",
    "plt.plot(YTest, YTest,'b-')\n",
    "plt.show()"
   ]
  },
  {
   "cell_type": "code",
   "execution_count": 31,
   "metadata": {},
   "outputs": [
    {
     "name": "stdout",
     "output_type": "stream",
     "text": [
      "0.9164906274809529\n",
      "0.08956881121002612 26699670214.63539\n",
      "0.08956881121002612 26699670214.63539\n"
     ]
    }
   ],
   "source": [
    "# calculate the accuracy of the model by sum of Square and mean absolute prediction error\n",
    "MAPE = np.mean(abs((YTest - YHatTest)/YTest))\n",
    "MSSE = np.mean(np.square(YHatTest - YTest))\n",
    "print(r2_score(YTest,YHatTest))\n",
    "print(MAPE, MSSE)\n",
    "print(MAPE, MSSE)"
   ]
  },
  {
   "cell_type": "markdown",
   "metadata": {},
   "source": [
    "Using scaled data:"
   ]
  },
  {
   "cell_type": "code",
   "execution_count": 32,
   "metadata": {},
   "outputs": [
    {
     "name": "stdout",
     "output_type": "stream",
     "text": [
      "0.9164906274809529\n",
      "0.08956881121002612 26699670214.63539\n",
      "0.08956881121002612 26699670214.63539\n"
     ]
    },
    {
     "data": {
      "image/png": "[encoded data removed]",
      "text/plain": [
       "<Figure size 432x288 with 1 Axes>"
      ]
     },
     "metadata": {
      "needs_background": "light"
     },
     "output_type": "display_data"
    }
   ],
   "source": [
    "#Instantiate \n",
    "wmLinear = linear_model.LinearRegression(normalize=True)\n",
    "#fir\n",
    "wmLinear.fit(X_transformed_train, YTrain)\n",
    "#Performance on the test data sets\n",
    "YHatTest = wmLinear.predict(X_transformed_test)\n",
    "\n",
    "# calculate the accuracy of the model by sum of Square and mean absolute prediction error\n",
    "MAPE = np.mean(abs((YTest - YHatTest)/YTest))\n",
    "MSSE = np.mean(np.square(YHatTest - YTest))\n",
    "print(r2_score(YTest,YHatTest))\n",
    "print(MAPE, MSSE)\n",
    "print(MAPE, MSSE)\n",
    "plt.plot(YTest, YHatTest,'ro')\n",
    "plt.plot(YTest, YTest,'b-')\n",
    "plt.show()"
   ]
  },
  {
   "cell_type": "code",
   "execution_count": 33,
   "metadata": {},
   "outputs": [
    {
     "name": "stderr",
     "output_type": "stream",
     "text": [
      "C:\\Users\\b16z\\Anaconda3\\envs\\deeplearning\\lib\\site-packages\\sklearn\\linear_model\\coordinate_descent.py:475: ConvergenceWarning: Objective did not converge. You might want to increase the number of iterations. Duality gap: 56023494849469.734, tolerance: 143142991402.9765\n",
      "  positive)\n",
      "C:\\Users\\b16z\\Anaconda3\\envs\\deeplearning\\lib\\site-packages\\sklearn\\linear_model\\coordinate_descent.py:475: ConvergenceWarning: Objective did not converge. You might want to increase the number of iterations. Duality gap: 55365629274480.0, tolerance: 143142991402.9765\n",
      "  positive)\n",
      "C:\\Users\\b16z\\Anaconda3\\envs\\deeplearning\\lib\\site-packages\\sklearn\\linear_model\\coordinate_descent.py:475: ConvergenceWarning: Objective did not converge. You might want to increase the number of iterations. Duality gap: 53671765333390.85, tolerance: 143142991402.9765\n",
      "  positive)\n",
      "C:\\Users\\b16z\\Anaconda3\\envs\\deeplearning\\lib\\site-packages\\sklearn\\linear_model\\coordinate_descent.py:475: ConvergenceWarning: Objective did not converge. You might want to increase the number of iterations. Duality gap: 44955307076773.16, tolerance: 143142991402.9765\n",
      "  positive)\n",
      "C:\\Users\\b16z\\Anaconda3\\envs\\deeplearning\\lib\\site-packages\\sklearn\\linear_model\\coordinate_descent.py:475: ConvergenceWarning: Objective did not converge. You might want to increase the number of iterations. Duality gap: 44788915143372.734, tolerance: 143142991402.9765\n",
      "  positive)\n",
      "C:\\Users\\b16z\\Anaconda3\\envs\\deeplearning\\lib\\site-packages\\sklearn\\linear_model\\coordinate_descent.py:475: ConvergenceWarning: Objective did not converge. You might want to increase the number of iterations. Duality gap: 53047757803783.734, tolerance: 143142991402.9765\n",
      "  positive)\n",
      "C:\\Users\\b16z\\Anaconda3\\envs\\deeplearning\\lib\\site-packages\\sklearn\\linear_model\\coordinate_descent.py:475: ConvergenceWarning: Objective did not converge. You might want to increase the number of iterations. Duality gap: 54916773478650.86, tolerance: 143142991402.9765\n",
      "  positive)\n",
      "C:\\Users\\b16z\\Anaconda3\\envs\\deeplearning\\lib\\site-packages\\sklearn\\linear_model\\coordinate_descent.py:475: ConvergenceWarning: Objective did not converge. You might want to increase the number of iterations. Duality gap: 25797001951737.766, tolerance: 143142991402.9765\n",
      "  positive)\n",
      "C:\\Users\\b16z\\Anaconda3\\envs\\deeplearning\\lib\\site-packages\\sklearn\\linear_model\\coordinate_descent.py:475: ConvergenceWarning: Objective did not converge. You might want to increase the number of iterations. Duality gap: 762561604542.9688, tolerance: 143142991402.9765\n",
      "  positive)\n"
     ]
    },
    {
     "data": {
      "image/png": "[encoded data removed]",
      "text/plain": [
       "<Figure size 432x288 with 1 Axes>"
      ]
     },
     "metadata": {
      "needs_background": "light"
     },
     "output_type": "display_data"
    }
   ],
   "source": [
    "alphas = np.linspace(10, 20, 10)\n",
    "#Hyper parameter optimisation\n",
    "testError = np.empty(10)\n",
    "\n",
    "for i, alpha in enumerate(alphas) :\n",
    "    \n",
    "    lasso = Lasso(alpha=alpha)\n",
    "    lasso.fit(XTrain, YTrain)\n",
    "    testError[i] = mean_squared_error(YTest, lasso.predict(XTest))\n",
    "plt.plot(alphas, testError, 'r-')\n",
    "plt.show()"
   ]
  },
  {
   "cell_type": "markdown",
   "metadata": {},
   "source": [
    "17 seems to be ideal value for hyperparameter."
   ]
  },
  {
   "cell_type": "code",
   "execution_count": 34,
   "metadata": {},
   "outputs": [
    {
     "name": "stderr",
     "output_type": "stream",
     "text": [
      "C:\\Users\\b16z\\Anaconda3\\envs\\deeplearning\\lib\\site-packages\\sklearn\\linear_model\\coordinate_descent.py:475: ConvergenceWarning: Objective did not converge. You might want to increase the number of iterations. Duality gap: 55237662443319.19, tolerance: 143142991402.9765\n",
      "  positive)\n"
     ]
    },
    {
     "data": {
      "text/plain": [
       "Lasso(alpha=17, copy_X=True, fit_intercept=True, max_iter=1000, normalize=False,\n",
       "      positive=False, precompute=False, random_state=None, selection='cyclic',\n",
       "      tol=0.0001, warm_start=False)"
      ]
     },
     "execution_count": 34,
     "metadata": {},
     "output_type": "execute_result"
    }
   ],
   "source": [
    "lasso = Lasso(alpha=17)\n",
    "lasso.fit(XTrain, YTrain)"
   ]
  },
  {
   "cell_type": "code",
   "execution_count": 35,
   "metadata": {},
   "outputs": [
    {
     "data": {
      "image/png": "[encoded data removed]",
      "text/plain": [
       "<Figure size 432x288 with 1 Axes>"
      ]
     },
     "metadata": {
      "needs_background": "light"
     },
     "output_type": "display_data"
    }
   ],
   "source": [
    "#Performance on the test data sets\n",
    "YHatTest =lasso.predict(XTest)\n",
    "plt.plot(YTest, YHatTest,'ro')\n",
    "plt.plot(YTest, YTest,'b-')\n",
    "plt.show()"
   ]
  },
  {
   "cell_type": "code",
   "execution_count": 36,
   "metadata": {},
   "outputs": [
    {
     "name": "stdout",
     "output_type": "stream",
     "text": [
      "0.9164472451863696\n",
      "0.08969639433151724 26713540429.721313\n"
     ]
    }
   ],
   "source": [
    "# calculate the accuray of the model by sum of Square and mean absolute prediction error\n",
    "MAPE = np.mean(abs((YTest - YHatTest)/YTest))\n",
    "MSSE = np.mean(np.square(YHatTest - YTest))\n",
    "print(r2_score(YTest,YHatTest))\n",
    "print(MAPE, MSSE)"
   ]
  },
  {
   "cell_type": "markdown",
   "metadata": {},
   "source": [
    "#### 2.KNN "
   ]
  },
  {
   "cell_type": "code",
   "execution_count": 37,
   "metadata": {},
   "outputs": [
    {
     "data": {
      "image/png": "[encoded data removed]",
      "text/plain": [
       "<Figure size 432x288 with 1 Axes>"
      ]
     },
     "metadata": {
      "needs_background": "light"
     },
     "output_type": "display_data"
    }
   ],
   "source": [
    "#Instantiate\n",
    "knn = KNeighborsRegressor()\n",
    "#Fit\n",
    "knn.fit(XTrain, YTrain)\n",
    "#Predict\n",
    "YHatTest=knn.predict(XTest)\n",
    "\n",
    "#Plotting \n",
    "plt.plot(YTest, YHatTest,'ro')\n",
    "plt.plot(YTest, YTest,'b-')\n",
    "plt.show()"
   ]
  },
  {
   "cell_type": "code",
   "execution_count": 38,
   "metadata": {},
   "outputs": [
    {
     "name": "stdout",
     "output_type": "stream",
     "text": [
      "0.004160742946214158\n",
      "0.6585075525101509 318390366830.49176\n"
     ]
    }
   ],
   "source": [
    "# calculate the accuray of the model by sum of Square and mean absolute prediction error\n",
    "MAPE = np.mean(abs((YTest - YHatTest)/YTest))\n",
    "MSSE = np.mean(np.square(YHatTest - YTest))\n",
    "print(r2_score(YTest,YHatTest))\n",
    "print(MAPE, MSSE)"
   ]
  },
  {
   "cell_type": "markdown",
   "metadata": {},
   "source": [
    "Using scaled data:"
   ]
  },
  {
   "cell_type": "code",
   "execution_count": 39,
   "metadata": {},
   "outputs": [
    {
     "name": "stdout",
     "output_type": "stream",
     "text": [
      "0.9162375208129622\n",
      "0.07496902413625751 26780593641.079945\n"
     ]
    },
    {
     "data": {
      "image/png": "[encoded data removed]",
      "text/plain": [
       "<Figure size 432x288 with 1 Axes>"
      ]
     },
     "metadata": {
      "needs_background": "light"
     },
     "output_type": "display_data"
    }
   ],
   "source": [
    "#Instantiate\n",
    "knn = KNeighborsRegressor()\n",
    "#Fit\n",
    "knn.fit(X_transformed_train, YTrain)\n",
    "#Predict\n",
    "YHatTest=knn.predict(X_transformed_test)\n",
    "# calculate the accuray of the model by sum of Square and mean absolute prediction error\n",
    "MAPE = np.mean(abs((YTest - YHatTest)/YTest))\n",
    "MSSE = np.mean(np.square(YHatTest - YTest))\n",
    "print(r2_score(YTest,YHatTest))\n",
    "print(MAPE, MSSE)\n",
    "#Plotting \n",
    "plt.plot(YTest, YHatTest,'ro')\n",
    "plt.plot(YTest, YTest,'b-')\n",
    "plt.show()"
   ]
  },
  {
   "cell_type": "code",
   "execution_count": 40,
   "metadata": {},
   "outputs": [
    {
     "data": {
      "image/png": "[encoded data removed]",
      "text/plain": [
       "<Figure size 432x288 with 1 Axes>"
      ]
     },
     "metadata": {
      "needs_background": "light"
     },
     "output_type": "display_data"
    }
   ],
   "source": [
    "#Choosing best n_neighbors value\n",
    "i=np.arange(1,25,2)\n",
    "r2_test=[]\n",
    "r2_train=[]\n",
    "\n",
    "for x in i:\n",
    "    KNN_model = KNeighborsRegressor(n_neighbors=x,n_jobs=-1)\n",
    "    KNN_model.fit(X_transformed_train, YTrain)\n",
    "    YHatTest = KNN_model.predict(X_transformed_test)\n",
    "    r_test = r2_score(YTest,YHatTest)\n",
    "    r2_test.append(r_test)\n",
    "    prediction2 = KNN_model.predict(X_transformed_train)\n",
    "    r_train = r2_score(YTrain,prediction2)\n",
    "    r2_train.append(r_train)\n",
    "#Plotting the accuracy versus number of neighbors value to find best value\n",
    "\n",
    "plt.figure()\n",
    "plt.plot(r2_test,label='test')\n",
    "plt.plot(r2_train,label='train')\n",
    "plt.xlabel('Number of Neighbors')\n",
    "plt.ylabel('R2 Score')\n",
    "plt.legend()\n",
    "plt.show()"
   ]
  },
  {
   "cell_type": "markdown",
   "metadata": {},
   "source": [
    "After 10,there is no improvement in test scores."
   ]
  },
  {
   "cell_type": "code",
   "execution_count": 41,
   "metadata": {},
   "outputs": [
    {
     "data": {
      "image/png": "[encoded data removed]",
      "text/plain": [
       "<Figure size 432x288 with 1 Axes>"
      ]
     },
     "metadata": {
      "needs_background": "light"
     },
     "output_type": "display_data"
    }
   ],
   "source": [
    "#KNN on ideal value\n",
    "knn = KNeighborsRegressor(n_neighbors=10)\n",
    "knn.fit(X_transformed_train, YTrain)\n",
    "YHatTest=knn.predict(X_transformed_test)\n",
    "plt.plot(YTest, YHatTest,'ro')\n",
    "plt.plot(YTest, YTest,'b-')\n",
    "plt.show()"
   ]
  },
  {
   "cell_type": "code",
   "execution_count": 42,
   "metadata": {},
   "outputs": [
    {
     "name": "stdout",
     "output_type": "stream",
     "text": [
      "0.9173431540849879\n",
      "0.07327603009202559 26427099861.268818\n"
     ]
    }
   ],
   "source": [
    "MAPE = np.mean(abs((YTest - YHatTest)/YTest))\n",
    "MSSE = np.mean(np.square(YHatTest - YTest))\n",
    "\n",
    "print(r2_score(YTest,YHatTest))\n",
    "print(MAPE, MSSE)"
   ]
  },
  {
   "cell_type": "markdown",
   "metadata": {},
   "source": [
    "#### 3.Extra  Trees Regressor"
   ]
  },
  {
   "cell_type": "code",
   "execution_count": 43,
   "metadata": {},
   "outputs": [
    {
     "name": "stdout",
     "output_type": "stream",
     "text": [
      "0.07034253983472535 21876166247.920254\n",
      "0.93157724789107\n"
     ]
    },
    {
     "data": {
      "image/png": "[encoded data removed]",
      "text/plain": [
       "<Figure size 432x288 with 1 Axes>"
      ]
     },
     "metadata": {
      "needs_background": "light"
     },
     "output_type": "display_data"
    }
   ],
   "source": [
    "#Instantaite\n",
    "clf = ExtraTreesRegressor()\n",
    "#Fit\n",
    "clf.fit(XTrain, YTrain)\n",
    "#Predict\n",
    "YHatTest=clf.predict(XTest)\n",
    "# calculate the accuray of the model by sum of Square and mean absolute prediction error\n",
    "MAPE = np.mean(abs((YTest - YHatTest)/YTest))\n",
    "MSSE = np.mean(np.square(YHatTest - YTest))\n",
    "print(MAPE, MSSE)\n",
    "print(r2_score(YTest,YHatTest))\n",
    "plt.plot(YTest, YHatTest,'ro')\n",
    "plt.plot(YTest, YTest,'b-')\n",
    "plt.show()"
   ]
  },
  {
   "cell_type": "code",
   "execution_count": 44,
   "metadata": {},
   "outputs": [
    {
     "name": "stdout",
     "output_type": "stream",
     "text": [
      "0.06840815238667336 21421398135.99923\n",
      "0.9329996399791708\n"
     ]
    },
    {
     "data": {
      "image/png": "[encoded data removed]",
      "text/plain": [
       "<Figure size 432x288 with 1 Axes>"
      ]
     },
     "metadata": {
      "needs_background": "light"
     },
     "output_type": "display_data"
    }
   ],
   "source": [
    "#Instantaite\n",
    "clf = ExtraTreesRegressor()\n",
    "#Fit\n",
    "clf.fit(X_transformed_train, YTrain)\n",
    "#Predict\n",
    "YHatTest=clf.predict(X_transformed_test)\n",
    "# calculate the accuray of the model by sum of Square and mean absolute prediction error\n",
    "MAPE = np.mean(abs((YTest - YHatTest)/YTest))\n",
    "MSSE = np.mean(np.square(YHatTest - YTest))\n",
    "print(MAPE, MSSE)\n",
    "print(r2_score(YTest,YHatTest))\n",
    "plt.plot(YTest, YHatTest,'ro')\n",
    "plt.plot(YTest, YTest,'b-')\n",
    "plt.show()"
   ]
  },
  {
   "cell_type": "code",
   "execution_count": 45,
   "metadata": {},
   "outputs": [
    {
     "data": {
      "image/png": "[encoded data removed]",
      "text/plain": [
       "<Figure size 432x288 with 1 Axes>"
      ]
     },
     "metadata": {
      "needs_background": "light"
     },
     "output_type": "display_data"
    }
   ],
   "source": [
    "#Choosing best estimator value\n",
    "i=np.arange(1,70,2)\n",
    "r2_test=[]\n",
    "r2_train=[]\n",
    "\n",
    "for x in i:\n",
    "    ET_model = ExtraTreesRegressor(n_estimators=x,n_jobs=-1)\n",
    "    ET_model.fit(X_transformed_train, YTrain)\n",
    "    YHatTest = ET_model.predict(X_transformed_test)\n",
    "    r_test = r2_score(YTest,YHatTest)\n",
    "    r2_test.append(r_test)\n",
    "    prediction2 = ET_model.predict(X_transformed_train)\n",
    "    r_train = r2_score(YTrain,prediction2)\n",
    "    r2_train.append(r_train)\n",
    "#Plotting the accuracy versus number of neighbors value to find best value\n",
    "\n",
    "plt.figure()\n",
    "plt.plot(r2_test,label='test')\n",
    "plt.plot(r2_train,label='train')\n",
    "plt.xlabel('Number of Neighbors')\n",
    "plt.ylabel('R2 Score')\n",
    "plt.legend()\n",
    "plt.show()"
   ]
  },
  {
   "cell_type": "markdown",
   "metadata": {},
   "source": [
    "The ideal n_estimators=10(There is no significant improvement in test scores after this)"
   ]
  },
  {
   "cell_type": "code",
   "execution_count": 46,
   "metadata": {},
   "outputs": [
    {
     "name": "stderr",
     "output_type": "stream",
     "text": [
      "[Parallel(n_jobs=1)]: Using backend SequentialBackend with 1 concurrent workers.\n",
      "[Parallel(n_jobs=1)]: Done  10 out of  10 | elapsed:    0.1s finished\n",
      "[Parallel(n_jobs=1)]: Using backend SequentialBackend with 1 concurrent workers.\n",
      "[Parallel(n_jobs=1)]: Done  10 out of  10 | elapsed:    0.0s finished\n"
     ]
    },
    {
     "name": "stdout",
     "output_type": "stream",
     "text": [
      "0.9347271805221486\n",
      "0.06934092532415362 20869067764.107124\n"
     ]
    },
    {
     "data": {
      "image/png": "[encoded data removed]",
      "text/plain": [
       "<Figure size 432x288 with 1 Axes>"
      ]
     },
     "metadata": {
      "needs_background": "light"
     },
     "output_type": "display_data"
    }
   ],
   "source": [
    "#Using ideal value\n",
    "clf = ExtraTreesRegressor(n_estimators=10,max_features='auto', verbose=1, n_jobs=1)\n",
    "clf.fit(X_transformed_train, YTrain)\n",
    "YHatTest=clf.predict(X_transformed_test)\n",
    "# calculate the accuray of the model by sum of Square and mean absolute prediction error\n",
    "MAPE = np.mean(abs((YTest - YHatTest)/YTest))\n",
    "MSSE = np.mean(np.square(YHatTest - YTest))\n",
    "print(r2_score(YTest,YHatTest))\n",
    "print(MAPE, MSSE)\n",
    "plt.plot(YTest, YHatTest,'ro')\n",
    "plt.plot(YTest, YTest,'b-')\n",
    "plt.show()"
   ]
  },
  {
   "cell_type": "markdown",
   "metadata": {},
   "source": [
    "#### 4.Random Forest Regressor"
   ]
  },
  {
   "cell_type": "code",
   "execution_count": 47,
   "metadata": {},
   "outputs": [
    {
     "name": "stdout",
     "output_type": "stream",
     "text": [
      "0.9270933468950018\n",
      "0.06991555159865692 23309761954.112305\n"
     ]
    },
    {
     "data": {
      "image/png": "[encoded data removed]",
      "text/plain": [
       "<Figure size 432x288 with 1 Axes>"
      ]
     },
     "metadata": {
      "needs_background": "light"
     },
     "output_type": "display_data"
    }
   ],
   "source": [
    "#Instantiate \n",
    "clf = RandomForestRegressor()\n",
    "#Fit \n",
    "clf.fit(X_transformed_train, YTrain)\n",
    "#Predict\n",
    "YHatTest=clf.predict(X_transformed_test)\n",
    "# calculate the accuray of the model by sum of Square and mean absolute prediction error\n",
    "MAPE = np.mean(abs((YTest - YHatTest)/YTest))\n",
    "MSSE = np.mean(np.square(YHatTest - YTest))\n",
    "print(r2_score(YTest,YHatTest))\n",
    "print(MAPE, MSSE)\n",
    "plt.plot(YTest, YHatTest,'ro')\n",
    "plt.plot(YTest, YTest,'b-')\n",
    "plt.show()"
   ]
  },
  {
   "cell_type": "code",
   "execution_count": 48,
   "metadata": {},
   "outputs": [
    {
     "data": {
      "image/png": "[encoded data removed]",
      "text/plain": [
       "<Figure size 432x288 with 1 Axes>"
      ]
     },
     "metadata": {
      "needs_background": "light"
     },
     "output_type": "display_data"
    }
   ],
   "source": [
    "#Find ideal value\n",
    "i=np.arange(1,102,2)\n",
    "r2_test=[]\n",
    "r2_train=[]\n",
    "\n",
    "for x in i:\n",
    "    RF_model = RandomForestRegressor(n_estimators=x,n_jobs=-1)\n",
    "    RF_model.fit(X_transformed_train, YTrain)\n",
    "    YHatTest = RF_model.predict(X_transformed_test)\n",
    "    r_test = r2_score(YTest,YHatTest)\n",
    "    r2_test.append(r_test)\n",
    "    prediction2 = RF_model.predict(XTrain)\n",
    "    r_train = r2_score(YTrain,prediction2)\n",
    "    r2_train.append(r_train)\n",
    "#Plotting the accuracy versus number of neighbors value to find best value\n",
    "\n",
    "plt.figure()\n",
    "plt.plot(r2_test,label='test')\n",
    "plt.plot(r2_train,label='train')\n",
    "plt.xlabel('Number of Neighbors')\n",
    "plt.ylabel('R2 Score')\n",
    "plt.legend()\n",
    "plt.show()"
   ]
  },
  {
   "cell_type": "markdown",
   "metadata": {},
   "source": [
    "Using ideal value=50 after which there is no significant improvement in test scores."
   ]
  },
  {
   "cell_type": "code",
   "execution_count": 49,
   "metadata": {},
   "outputs": [
    {
     "name": "stderr",
     "output_type": "stream",
     "text": [
      "[Parallel(n_jobs=1)]: Using backend SequentialBackend with 1 concurrent workers.\n",
      "[Parallel(n_jobs=1)]: Done  50 out of  50 | elapsed:    0.3s finished\n",
      "[Parallel(n_jobs=1)]: Using backend SequentialBackend with 1 concurrent workers.\n",
      "[Parallel(n_jobs=1)]: Done  50 out of  50 | elapsed:    0.0s finished\n"
     ]
    },
    {
     "name": "stdout",
     "output_type": "stream",
     "text": [
      "0.9416601176870485\n",
      "0.0704670078713485 18652464641.153557\n"
     ]
    },
    {
     "data": {
      "image/png": "[encoded data removed]",
      "text/plain": [
       "<Figure size 432x288 with 1 Axes>"
      ]
     },
     "metadata": {
      "needs_background": "light"
     },
     "output_type": "display_data"
    }
   ],
   "source": [
    "#Running model for ideal value\n",
    "clf = RandomForestRegressor(n_estimators=50,max_features='log2', verbose=1)\n",
    "clf.fit(X_transformed_train, YTrain)\n",
    "YHatTest=clf.predict(X_transformed_test)\n",
    "# calculate the accuray of the model by sum of Square and mean absolute prediction error\n",
    "MAPE = np.mean(abs((YTest - YHatTest)/YTest))\n",
    "MSSE = np.mean(np.square(YHatTest - YTest))\n",
    "print(r2_score(YTest,YHatTest))\n",
    "print(MAPE, MSSE)\n",
    "plt.plot(YTest, YHatTest,'ro')\n",
    "plt.plot(YTest, YTest,'b-')\n",
    "plt.show()"
   ]
  },
  {
   "cell_type": "markdown",
   "metadata": {},
   "source": [
    "#### 5.SVM"
   ]
  },
  {
   "cell_type": "code",
   "execution_count": 50,
   "metadata": {},
   "outputs": [
    {
     "name": "stdout",
     "output_type": "stream",
     "text": [
      "-0.03459785662169024\n",
      "0.6100983494917479 330782291176.5659\n"
     ]
    },
    {
     "data": {
      "image/png": "[encoded data removed]",
      "text/plain": [
       "<Figure size 432x288 with 1 Axes>"
      ]
     },
     "metadata": {
      "needs_background": "light"
     },
     "output_type": "display_data"
    }
   ],
   "source": [
    "#Instantiate\n",
    "clf = SVR(kernel='rbf', gamma='auto')\n",
    "#Fit\n",
    "clf.fit(X_transformed_train, YTrain)\n",
    "#Predict\n",
    "YHatTest=clf.predict(X_transformed_test)\n",
    "# calculate the accuray of the model by sum of Square and mean absolute prediction error\n",
    "MAPE = np.mean(abs((YTest - YHatTest)/YTest))\n",
    "MSSE = np.mean(np.square(YHatTest - YTest))\n",
    "print(r2_score(YTest,YHatTest))\n",
    "print(MAPE, MSSE)\n",
    "\n",
    "plt.plot(YTest, YHatTest,'ro')\n",
    "plt.plot(YTest, YTest,'b-')\n",
    "plt.show()"
   ]
  },
  {
   "cell_type": "markdown",
   "metadata": {},
   "source": [
    "#### 6.MLP Regressor"
   ]
  },
  {
   "cell_type": "code",
   "execution_count": 51,
   "metadata": {},
   "outputs": [
    {
     "name": "stdout",
     "output_type": "stream",
     "text": [
      "Iteration 1, loss = 701017048801.70947266\n",
      "Iteration 2, loss = 701003338069.93420410\n",
      "Iteration 3, loss = 700990119835.06945801\n",
      "Iteration 4, loss = 700976867414.22497559\n",
      "Iteration 5, loss = 700962658101.59875488\n",
      "Iteration 6, loss = 700947198299.93994141\n",
      "Iteration 7, loss = 700930378756.58081055\n",
      "Iteration 8, loss = 700912289043.82336426\n",
      "Iteration 9, loss = 700892701752.94604492\n",
      "Iteration 10, loss = 700871726075.51159668\n",
      "Iteration 11, loss = 700849313310.16625977\n",
      "Iteration 12, loss = 700825345781.76538086\n",
      "Iteration 13, loss = 700799964790.53088379\n",
      "Iteration 14, loss = 700773054262.44519043\n",
      "Iteration 15, loss = 700744434904.80883789\n",
      "Iteration 16, loss = 700714475475.10754395\n",
      "Iteration 17, loss = 700682758766.51708984\n",
      "Iteration 18, loss = 700649686238.15637207\n",
      "Iteration 19, loss = 700614906928.57019043\n",
      "Iteration 20, loss = 700578576157.72619629\n",
      "Iteration 21, loss = 700540761181.86669922\n",
      "Iteration 22, loss = 700501356722.61999512\n",
      "Iteration 23, loss = 700460286918.02990723\n",
      "Iteration 24, loss = 700417751492.22900391\n",
      "Iteration 25, loss = 700373556456.29125977\n",
      "Iteration 26, loss = 700327882995.41088867\n",
      "Iteration 27, loss = 700280613499.35131836\n",
      "Iteration 28, loss = 700231720760.02062988\n",
      "Iteration 29, loss = 700181482118.92871094\n",
      "Iteration 30, loss = 700129543858.35314941\n",
      "Iteration 31, loss = 700076099976.44018555\n",
      "Iteration 32, loss = 700021222488.85791016\n",
      "Iteration 33, loss = 699964850649.66308594\n",
      "Iteration 34, loss = 699906826345.59960938\n",
      "Iteration 35, loss = 699847284534.89270020\n",
      "Iteration 36, loss = 699786147308.64477539\n",
      "Iteration 37, loss = 699723828460.00549316\n",
      "Iteration 38, loss = 699659740401.01843262\n",
      "Iteration 39, loss = 699594349050.50183105\n",
      "Iteration 40, loss = 699527377618.52355957\n",
      "Iteration 41, loss = 699459154489.63049316\n",
      "Iteration 42, loss = 699389340173.00158691\n",
      "Iteration 43, loss = 699318055344.31835938\n",
      "Iteration 44, loss = 699245591521.14453125\n",
      "Iteration 45, loss = 699169261329.73095703\n",
      "Iteration 46, loss = 699081640998.68078613\n",
      "Iteration 47, loss = 698984465255.00329590\n",
      "Iteration 48, loss = 698880218771.05334473\n",
      "Iteration 49, loss = 698771575985.44665527\n",
      "Iteration 50, loss = 698659402262.35070801\n",
      "Iteration 51, loss = 698543273942.53393555\n",
      "Iteration 52, loss = 698424471260.59008789\n",
      "Iteration 53, loss = 698303104369.02978516\n",
      "Iteration 54, loss = 698179431521.33496094\n",
      "Iteration 55, loss = 698052763193.42602539\n",
      "Iteration 56, loss = 697925020524.76330566\n",
      "Iteration 57, loss = 697794693526.05981445\n",
      "Iteration 58, loss = 697661841043.05004883\n",
      "Iteration 59, loss = 697527581975.63354492\n",
      "Iteration 60, loss = 697390878207.65356445\n",
      "Iteration 61, loss = 697252746175.61877441\n",
      "Iteration 62, loss = 697111886335.36840820\n",
      "Iteration 63, loss = 696969827595.12512207\n",
      "Iteration 64, loss = 696825258733.28552246\n",
      "Iteration 65, loss = 696678559686.23364258\n",
      "Iteration 66, loss = 696530727716.31994629\n",
      "Iteration 67, loss = 696380721733.79028320\n",
      "Iteration 68, loss = 696228531751.46118164\n",
      "Iteration 69, loss = 696075308405.14233398\n",
      "Iteration 70, loss = 695919751835.30566406\n",
      "Iteration 71, loss = 695762838236.25622559\n",
      "Iteration 72, loss = 695603695084.03125000\n",
      "Iteration 73, loss = 695443291179.86047363\n",
      "Iteration 74, loss = 695281366631.40368652\n",
      "Iteration 75, loss = 695117392413.30664062\n",
      "Iteration 76, loss = 694951425324.93322754\n",
      "Iteration 77, loss = 694784085345.48583984\n",
      "Iteration 78, loss = 694614982690.20422363\n",
      "Iteration 79, loss = 694444099337.66625977\n",
      "Iteration 80, loss = 694272008041.25500488\n",
      "Iteration 81, loss = 694097462783.42187500\n",
      "Iteration 82, loss = 693922394563.01940918\n",
      "Iteration 83, loss = 693745330179.32409668\n",
      "Iteration 84, loss = 693566653543.38745117\n",
      "Iteration 85, loss = 693385672086.42285156\n",
      "Iteration 86, loss = 693203844388.53918457\n",
      "Iteration 87, loss = 693020964900.41223145\n",
      "Iteration 88, loss = 692835918239.35974121\n",
      "Iteration 89, loss = 692650173183.54553223\n",
      "Iteration 90, loss = 692461857723.68310547\n",
      "Iteration 91, loss = 692272327532.47766113\n",
      "Iteration 92, loss = 692081796887.59130859\n",
      "Iteration 93, loss = 691888908262.47326660\n",
      "Iteration 94, loss = 691695502339.85229492\n",
      "Iteration 95, loss = 691499590513.30603027\n",
      "Iteration 96, loss = 691303230304.44750977\n",
      "Iteration 97, loss = 691104141822.01440430\n",
      "Iteration 98, loss = 690904630133.71484375\n",
      "Iteration 99, loss = 690702882142.48596191\n",
      "Iteration 100, loss = 690500225144.45666504\n",
      "Iteration 101, loss = 690295336420.06335449\n",
      "Iteration 102, loss = 690089394751.15783691\n",
      "Iteration 103, loss = 689881708065.09521484\n",
      "Iteration 104, loss = 689672968042.22265625\n",
      "Iteration 105, loss = 689463039377.43054199\n",
      "Iteration 106, loss = 689251523065.78405762\n",
      "Iteration 107, loss = 689039225614.30883789\n",
      "Iteration 108, loss = 688824136701.47875977\n",
      "Iteration 109, loss = 688608573235.90600586\n",
      "Iteration 110, loss = 688391355928.23999023\n",
      "Iteration 111, loss = 688172991908.52563477\n",
      "Iteration 112, loss = 687952839370.42114258\n",
      "Iteration 113, loss = 687731803100.66259766\n",
      "Iteration 114, loss = 687509594769.56835938\n",
      "Iteration 115, loss = 687285732633.74914551\n",
      "Iteration 116, loss = 687060798707.11145020\n",
      "Iteration 117, loss = 686833791337.45031738\n",
      "Iteration 118, loss = 686606388809.54980469\n",
      "Iteration 119, loss = 686376675194.38891602\n",
      "Iteration 120, loss = 686146389796.91271973\n",
      "Iteration 121, loss = 685914628799.36572266\n",
      "Iteration 122, loss = 685681828032.27746582\n",
      "Iteration 123, loss = 685446401904.63830566\n",
      "Iteration 124, loss = 685210907526.62854004\n",
      "Iteration 125, loss = 684973365275.08276367\n",
      "Iteration 126, loss = 684735515304.54895020\n",
      "Iteration 127, loss = 684495472939.85266113\n",
      "Iteration 128, loss = 684254797013.19580078\n",
      "Iteration 129, loss = 684011874717.90551758\n",
      "Iteration 130, loss = 683768995600.35241699\n",
      "Iteration 131, loss = 683523593598.38293457\n",
      "Iteration 132, loss = 683277950280.63757324\n",
      "Iteration 133, loss = 683030525884.14233398\n",
      "Iteration 134, loss = 682782289413.17346191\n",
      "Iteration 135, loss = 682533120956.20227051\n",
      "Iteration 136, loss = 682281968454.17004395\n",
      "Iteration 137, loss = 682029775302.52416992\n",
      "Iteration 138, loss = 681776443895.71276855\n",
      "Iteration 139, loss = 681522406557.17395020\n",
      "Iteration 140, loss = 681266048622.86218262\n",
      "Iteration 141, loss = 681009687545.54077148\n",
      "Iteration 142, loss = 680751327451.48034668\n",
      "Iteration 143, loss = 680492329191.83154297\n",
      "Iteration 144, loss = 680231412967.69982910\n",
      "Iteration 145, loss = 679968954497.90185547\n",
      "Iteration 146, loss = 679706076472.88586426\n",
      "Iteration 147, loss = 679441121165.55664062\n",
      "Iteration 148, loss = 679175776258.93005371\n",
      "Iteration 149, loss = 678908782580.43957520\n",
      "Iteration 150, loss = 678640763879.17370605\n",
      "Iteration 151, loss = 678371298140.33703613\n",
      "Iteration 152, loss = 678101827951.47521973\n",
      "Iteration 153, loss = 677829833997.16723633\n",
      "Iteration 154, loss = 677557101065.95971680\n",
      "Iteration 155, loss = 677284024436.73889160\n",
      "Iteration 156, loss = 677008640243.21386719\n",
      "Iteration 157, loss = 676732776987.18078613\n",
      "Iteration 158, loss = 676456010523.47497559\n",
      "Iteration 159, loss = 676177061965.45861816\n",
      "Iteration 160, loss = 675897472408.77392578\n",
      "Iteration 161, loss = 675617131002.98461914\n",
      "Iteration 162, loss = 675334848873.59753418\n",
      "Iteration 163, loss = 675051592979.75732422\n",
      "Iteration 164, loss = 674767878788.84082031\n",
      "Iteration 165, loss = 674482687674.85791016\n",
      "Iteration 166, loss = 674195876815.71630859\n",
      "Iteration 167, loss = 673908980322.62036133\n",
      "Iteration 168, loss = 673620698767.97814941\n",
      "Iteration 169, loss = 673331234969.83471680\n",
      "Iteration 170, loss = 673041013254.27124023\n",
      "Iteration 171, loss = 672749213607.52709961\n",
      "Iteration 172, loss = 672456218289.66064453\n",
      "Iteration 173, loss = 672161972298.38037109\n",
      "Iteration 174, loss = 671867620408.80590820\n",
      "Iteration 175, loss = 671571252925.06188965\n",
      "Iteration 176, loss = 671274481564.96655273\n",
      "Iteration 177, loss = 670976838842.43176270\n",
      "Iteration 178, loss = 670677766065.85339355\n",
      "Iteration 179, loss = 670377522636.99182129\n",
      "Iteration 180, loss = 670075515312.50488281\n",
      "Iteration 181, loss = 669773255524.05651855\n",
      "Iteration 182, loss = 669468859256.42187500\n",
      "Iteration 183, loss = 669163472464.66577148\n",
      "Iteration 184, loss = 668857332232.60559082\n",
      "Iteration 185, loss = 668549986305.47290039\n",
      "Iteration 186, loss = 668241830340.74389648\n",
      "Iteration 187, loss = 667932027506.08642578\n",
      "Iteration 188, loss = 667622397735.30615234\n",
      "Iteration 189, loss = 667310485661.46350098\n",
      "Iteration 190, loss = 666998556978.29199219\n",
      "Iteration 191, loss = 666685015123.06408691\n"
     ]
    },
    {
     "name": "stdout",
     "output_type": "stream",
     "text": [
      "Iteration 192, loss = 666371389116.98779297\n",
      "Iteration 193, loss = 666055299020.83239746\n",
      "Iteration 194, loss = 665739127649.84533691\n",
      "Iteration 195, loss = 665421969867.57214355\n",
      "Iteration 196, loss = 665102893141.63598633\n",
      "Iteration 197, loss = 664784270163.30651855\n",
      "Iteration 198, loss = 664462791422.83520508\n",
      "Iteration 199, loss = 664140614406.34863281\n",
      "Iteration 200, loss = 663818630688.27185059\n"
     ]
    },
    {
     "name": "stderr",
     "output_type": "stream",
     "text": [
      "C:\\Users\\b16z\\Anaconda3\\envs\\deeplearning\\lib\\site-packages\\sklearn\\neural_network\\multilayer_perceptron.py:566: ConvergenceWarning: Stochastic Optimizer: Maximum iterations (200) reached and the optimization hasn't converged yet.\n",
      "  % self.max_iter, ConvergenceWarning)\n"
     ]
    }
   ],
   "source": [
    "#Instantiate\n",
    "clf = MLPRegressor(hidden_layer_sizes=(10,),  activation='relu', verbose=3)\n",
    "#fit\n",
    "clf.fit(XTrain, YTrain)\n",
    "#predict\n",
    "YHatTest=clf.predict(XTest)\n",
    "\n"
   ]
  },
  {
   "cell_type": "code",
   "execution_count": 52,
   "metadata": {},
   "outputs": [
    {
     "name": "stdout",
     "output_type": "stream",
     "text": [
      "-3.2783308053143854\n",
      "0.9507651941089227 1367870672779.3403\n"
     ]
    }
   ],
   "source": [
    "# calculate the accuray of the model by sum of Square and mean absolute prediction error\n",
    "MAPE = np.mean(abs((YTest - YHatTest)/YTest))\n",
    "MSSE = np.mean(np.square(YHatTest - YTest))\n",
    "print(r2_score(YTest,YHatTest))\n",
    "print(MAPE, MSSE)"
   ]
  },
  {
   "cell_type": "code",
   "execution_count": 53,
   "metadata": {},
   "outputs": [
    {
     "data": {
      "image/png": "[encoded data removed]",
      "text/plain": [
       "<Figure size 432x288 with 1 Axes>"
      ]
     },
     "metadata": {
      "needs_background": "light"
     },
     "output_type": "display_data"
    }
   ],
   "source": [
    "plt.plot(YTest, YHatTest,'ro')\n",
    "plt.plot(YTest, YTest,'b-')\n",
    "plt.show()"
   ]
  },
  {
   "cell_type": "code",
   "execution_count": 54,
   "metadata": {},
   "outputs": [
    {
     "name": "stdout",
     "output_type": "stream",
     "text": [
      "Iteration 1, loss = 701063199407.46948242\n",
      "Iteration 2, loss = 701062788949.30065918\n",
      "Iteration 3, loss = 701062358288.14587402\n",
      "Iteration 4, loss = 701061892103.36254883\n",
      "Iteration 5, loss = 701061377250.09020996\n",
      "Iteration 6, loss = 701060810905.27819824\n",
      "Iteration 7, loss = 701060184740.07092285\n",
      "Iteration 8, loss = 701059499226.85815430\n",
      "Iteration 9, loss = 701058743282.19311523\n",
      "Iteration 10, loss = 701057920827.87524414\n",
      "Iteration 11, loss = 701057019257.31896973\n",
      "Iteration 12, loss = 701056047755.29821777\n",
      "Iteration 13, loss = 701055001750.67089844\n",
      "Iteration 14, loss = 701053874899.77563477\n",
      "Iteration 15, loss = 701052657784.20056152\n",
      "Iteration 16, loss = 701051347170.07202148\n",
      "Iteration 17, loss = 701049937954.12170410\n",
      "Iteration 18, loss = 701048429180.68603516\n",
      "Iteration 19, loss = 701046823812.51306152\n",
      "Iteration 20, loss = 701045127662.25598145\n",
      "Iteration 21, loss = 701043331763.16528320\n",
      "Iteration 22, loss = 701041437421.43261719\n",
      "Iteration 23, loss = 701039464535.24450684\n",
      "Iteration 24, loss = 701037390686.83361816\n",
      "Iteration 25, loss = 701035219220.55895996\n",
      "Iteration 26, loss = 701032985577.19604492\n",
      "Iteration 27, loss = 701030656034.58422852\n",
      "Iteration 28, loss = 701028229161.38232422\n",
      "Iteration 29, loss = 701025733514.17712402\n",
      "Iteration 30, loss = 701023158846.92443848\n",
      "Iteration 31, loss = 701020485877.47241211\n",
      "Iteration 32, loss = 701017740112.11560059\n",
      "Iteration 33, loss = 701014919933.68249512\n",
      "Iteration 34, loss = 701012001912.75610352\n",
      "Iteration 35, loss = 701009016724.32751465\n",
      "Iteration 36, loss = 701005956016.23010254\n",
      "Iteration 37, loss = 701002801388.20324707\n",
      "Iteration 38, loss = 700999583714.78515625\n",
      "Iteration 39, loss = 700996271787.25341797\n",
      "Iteration 40, loss = 700992903191.58105469\n",
      "Iteration 41, loss = 700989435670.00915527\n",
      "Iteration 42, loss = 700985899491.31921387\n",
      "Iteration 43, loss = 700982284454.22521973\n",
      "Iteration 44, loss = 700978614139.04760742\n",
      "Iteration 45, loss = 700974861918.35290527\n",
      "Iteration 46, loss = 700971026196.77465820\n",
      "Iteration 47, loss = 700967133698.87023926\n",
      "Iteration 48, loss = 700963161047.65209961\n",
      "Iteration 49, loss = 700959126006.65527344\n",
      "Iteration 50, loss = 700955024469.49633789\n",
      "Iteration 51, loss = 700950844568.40795898\n",
      "Iteration 52, loss = 700946592018.92053223\n",
      "Iteration 53, loss = 700942290218.22888184\n",
      "Iteration 54, loss = 700937894122.35913086\n",
      "Iteration 55, loss = 700933452910.43310547\n",
      "Iteration 56, loss = 700928932419.23132324\n",
      "Iteration 57, loss = 700924339620.16894531\n",
      "Iteration 58, loss = 700919700019.19494629\n",
      "Iteration 59, loss = 700914956997.01464844\n",
      "Iteration 60, loss = 700910189669.44824219\n",
      "Iteration 61, loss = 700905331301.49304199\n",
      "Iteration 62, loss = 700900411257.38769531\n",
      "Iteration 63, loss = 700895444190.57885742\n",
      "Iteration 64, loss = 700890387599.66723633\n",
      "Iteration 65, loss = 700885293148.42260742\n",
      "Iteration 66, loss = 700880096032.86547852\n",
      "Iteration 67, loss = 700874872339.59973145\n",
      "Iteration 68, loss = 700869586222.18957520\n",
      "Iteration 69, loss = 700864200127.31018066\n",
      "Iteration 70, loss = 700858817899.15869141\n",
      "Iteration 71, loss = 700853318822.12536621\n",
      "Iteration 72, loss = 700847804964.64160156\n",
      "Iteration 73, loss = 700842206881.02587891\n",
      "Iteration 74, loss = 700836570175.62890625\n",
      "Iteration 75, loss = 700830840000.04077148\n",
      "Iteration 76, loss = 700825081309.22058105\n",
      "Iteration 77, loss = 700819250165.45825195\n",
      "Iteration 78, loss = 700813333388.58679199\n",
      "Iteration 79, loss = 700807413073.70153809\n",
      "Iteration 80, loss = 700801379458.36279297\n",
      "Iteration 81, loss = 700795340961.62500000\n",
      "Iteration 82, loss = 700789245804.33703613\n",
      "Iteration 83, loss = 700783055437.23181152\n",
      "Iteration 84, loss = 700776815560.30480957\n",
      "Iteration 85, loss = 700770564565.18957520\n",
      "Iteration 86, loss = 700764167034.86608887\n",
      "Iteration 87, loss = 700757781846.45898438\n",
      "Iteration 88, loss = 700751343136.43652344\n",
      "Iteration 89, loss = 700744810299.08654785\n",
      "Iteration 90, loss = 700738225351.08776855\n",
      "Iteration 91, loss = 700731586581.86865234\n",
      "Iteration 92, loss = 700724939535.40893555\n",
      "Iteration 93, loss = 700718165063.66271973\n",
      "Iteration 94, loss = 700711393142.08032227\n",
      "Iteration 95, loss = 700704552674.27880859\n",
      "Iteration 96, loss = 700697644234.32678223\n",
      "Iteration 97, loss = 700690691629.99023438\n",
      "Iteration 98, loss = 700683685773.20263672\n",
      "Iteration 99, loss = 700676654044.62646484\n",
      "Iteration 100, loss = 700669571577.04650879\n",
      "Iteration 101, loss = 700662389714.96289062\n",
      "Iteration 102, loss = 700655163631.09997559\n",
      "Iteration 103, loss = 700647923722.66833496\n",
      "Iteration 104, loss = 700640608724.53491211\n",
      "Iteration 105, loss = 700633264144.43103027\n",
      "Iteration 106, loss = 700625851526.51586914\n",
      "Iteration 107, loss = 700618377467.12805176\n",
      "Iteration 108, loss = 700610873127.92834473\n",
      "Iteration 109, loss = 700603325541.30627441\n",
      "Iteration 110, loss = 700595709394.77514648\n",
      "Iteration 111, loss = 700588010740.28186035\n",
      "Iteration 112, loss = 700580292406.31726074\n",
      "Iteration 113, loss = 700572507999.54541016\n",
      "Iteration 114, loss = 700564727595.33776855\n",
      "Iteration 115, loss = 700556832643.49938965\n",
      "Iteration 116, loss = 700548891913.36145020\n",
      "Iteration 117, loss = 700540936963.63952637\n",
      "Iteration 118, loss = 700532882894.37255859\n",
      "Iteration 119, loss = 700524832061.42858887\n",
      "Iteration 120, loss = 700516715086.42980957\n",
      "Iteration 121, loss = 700508545498.28454590\n",
      "Iteration 122, loss = 700500344585.91088867\n",
      "Iteration 123, loss = 700492070552.14123535\n",
      "Iteration 124, loss = 700483775118.31628418\n",
      "Iteration 125, loss = 700475406333.39746094\n",
      "Iteration 126, loss = 700466977842.51403809\n",
      "Iteration 127, loss = 700458522784.16638184\n",
      "Iteration 128, loss = 700450086937.87780762\n",
      "Iteration 129, loss = 700441478783.66638184\n",
      "Iteration 130, loss = 700432905859.91015625\n",
      "Iteration 131, loss = 700424242308.06604004\n",
      "Iteration 132, loss = 700415541473.32714844\n",
      "Iteration 133, loss = 700406802145.35681152\n",
      "Iteration 134, loss = 700397989740.23266602\n",
      "Iteration 135, loss = 700389202776.90832520\n",
      "Iteration 136, loss = 700380338561.25793457\n",
      "Iteration 137, loss = 700371396768.14599609\n",
      "Iteration 138, loss = 700362479921.72021484\n",
      "Iteration 139, loss = 700353455067.64526367\n",
      "Iteration 140, loss = 700344362455.81579590\n",
      "Iteration 141, loss = 700335309168.58898926\n",
      "Iteration 142, loss = 700326137783.85974121\n",
      "Iteration 143, loss = 700316981781.21020508\n",
      "Iteration 144, loss = 700307706681.16857910\n",
      "Iteration 145, loss = 700298412429.34924316\n",
      "Iteration 146, loss = 700289079701.66479492\n",
      "Iteration 147, loss = 700279705090.31494141\n",
      "Iteration 148, loss = 700270250571.30371094\n",
      "Iteration 149, loss = 700260769968.08239746\n",
      "Iteration 150, loss = 700251266678.15661621\n",
      "Iteration 151, loss = 700241688133.81555176\n",
      "Iteration 152, loss = 700232126022.72119141\n",
      "Iteration 153, loss = 700222448333.94116211\n",
      "Iteration 154, loss = 700212762500.20104980\n",
      "Iteration 155, loss = 700203035429.15100098\n",
      "Iteration 156, loss = 700193238650.23413086\n",
      "Iteration 157, loss = 700183473867.60644531\n",
      "Iteration 158, loss = 700173575459.85095215\n",
      "Iteration 159, loss = 700163667318.05004883\n",
      "Iteration 160, loss = 700153675176.00659180\n",
      "Iteration 161, loss = 700143679775.69592285\n",
      "Iteration 162, loss = 700133608222.27270508\n",
      "Iteration 163, loss = 700123544836.60864258\n",
      "Iteration 164, loss = 700113430215.84948730\n",
      "Iteration 165, loss = 700103200960.35998535\n",
      "Iteration 166, loss = 700093014633.18530273\n",
      "Iteration 167, loss = 700082733905.84155273\n",
      "Iteration 168, loss = 700072447063.55590820\n",
      "Iteration 169, loss = 700062087781.84655762\n",
      "Iteration 170, loss = 700051724570.17175293\n",
      "Iteration 171, loss = 700041263156.35827637\n",
      "Iteration 172, loss = 700030800597.20300293\n",
      "Iteration 173, loss = 700020289602.43713379\n",
      "Iteration 174, loss = 700009710394.30859375\n",
      "Iteration 175, loss = 699999074785.52893066\n",
      "Iteration 176, loss = 699988477892.64245605\n",
      "Iteration 177, loss = 699977743053.70874023\n",
      "Iteration 178, loss = 699967000125.91125488\n",
      "Iteration 179, loss = 699956272811.71875000\n",
      "Iteration 180, loss = 699945410421.33129883\n",
      "Iteration 181, loss = 699934578573.37182617\n",
      "Iteration 182, loss = 699923684188.82946777\n",
      "Iteration 183, loss = 699912734341.04907227\n",
      "Iteration 184, loss = 699901772118.06481934\n",
      "Iteration 185, loss = 699890687892.94665527\n",
      "Iteration 186, loss = 699879651068.02514648\n",
      "Iteration 187, loss = 699868521865.35412598\n",
      "Iteration 188, loss = 699857349119.97949219\n",
      "Iteration 189, loss = 699846120679.38427734\n",
      "Iteration 190, loss = 699834929765.94299316\n",
      "Iteration 191, loss = 699823621904.90112305\n",
      "Iteration 192, loss = 699812313723.68078613\n",
      "Iteration 193, loss = 699800931727.79699707\n",
      "Iteration 194, loss = 699789514792.99804688\n",
      "Iteration 195, loss = 699778087706.90380859\n"
     ]
    },
    {
     "name": "stdout",
     "output_type": "stream",
     "text": [
      "Iteration 196, loss = 699766578124.82482910\n",
      "Iteration 197, loss = 699755082344.48974609\n",
      "Iteration 198, loss = 699743553566.24707031\n",
      "Iteration 199, loss = 699731948001.92053223\n",
      "Iteration 200, loss = 699720252615.00842285\n"
     ]
    },
    {
     "name": "stderr",
     "output_type": "stream",
     "text": [
      "C:\\Users\\b16z\\Anaconda3\\envs\\deeplearning\\lib\\site-packages\\sklearn\\neural_network\\multilayer_perceptron.py:566: ConvergenceWarning: Stochastic Optimizer: Maximum iterations (200) reached and the optimization hasn't converged yet.\n",
      "  % self.max_iter, ConvergenceWarning)\n"
     ]
    }
   ],
   "source": [
    "#Instantiate\n",
    "clf = MLPRegressor(hidden_layer_sizes=(10,),  activation='relu', verbose=3)\n",
    "#fit\n",
    "clf.fit(X_transformed_train, YTrain)\n",
    "#predict\n",
    "YHatTest=clf.predict(X_transformed_test)\n"
   ]
  },
  {
   "cell_type": "code",
   "execution_count": 55,
   "metadata": {},
   "outputs": [
    {
     "name": "stdout",
     "output_type": "stream",
     "text": [
      "-3.5066572299096244\n",
      "0.9990612219801895 1440871343890.7085\n"
     ]
    }
   ],
   "source": [
    "# calculate the accuray of the model by sum of Square and mean absolute prediction error\n",
    "MAPE = np.mean(abs((YTest - YHatTest)/YTest))\n",
    "MSSE = np.mean(np.square(YHatTest - YTest))\n",
    "print(r2_score(YTest,YHatTest))\n",
    "print(MAPE, MSSE)\n"
   ]
  },
  {
   "cell_type": "code",
   "execution_count": 56,
   "metadata": {},
   "outputs": [
    {
     "data": {
      "image/png": "[encoded data removed]",
      "text/plain": [
       "<Figure size 432x288 with 1 Axes>"
      ]
     },
     "metadata": {
      "needs_background": "light"
     },
     "output_type": "display_data"
    }
   ],
   "source": [
    "plt.plot(YTest, YHatTest,'ro')\n",
    "plt.plot(YTest, YTest,'b-')\n",
    "plt.show()"
   ]
  },
  {
   "cell_type": "markdown",
   "metadata": {},
   "source": [
    "#### 7.Gradient Boosting Regressor"
   ]
  },
  {
   "cell_type": "code",
   "execution_count": 57,
   "metadata": {},
   "outputs": [],
   "source": [
    "#Instantiate\n",
    "clf = GradientBoostingRegressor(loss=\"huber\")\n",
    "#Fit\n",
    "clf.fit(X_transformed_train, YTrain)\n",
    "#Predict\n",
    "YHatTest=clf.predict(X_transformed_test)\n"
   ]
  },
  {
   "cell_type": "code",
   "execution_count": 58,
   "metadata": {},
   "outputs": [
    {
     "name": "stdout",
     "output_type": "stream",
     "text": [
      "0.8005028244803417\n",
      "0.2347457327380229 63783365081.70049\n"
     ]
    }
   ],
   "source": [
    "# calculate the accuray of the model by sum of Square and mean absolute prediction error\n",
    "MAPE = np.mean(abs((YTest - YHatTest)/YTest))\n",
    "MSSE = np.mean(np.square(YHatTest - YTest))\n",
    "print(r2_score(YTest,YHatTest))\n",
    "print(MAPE, MSSE)\n"
   ]
  },
  {
   "cell_type": "code",
   "execution_count": 59,
   "metadata": {},
   "outputs": [
    {
     "data": {
      "image/png": "[encoded data removed]",
      "text/plain": [
       "<Figure size 432x288 with 1 Axes>"
      ]
     },
     "metadata": {
      "needs_background": "light"
     },
     "output_type": "display_data"
    }
   ],
   "source": [
    "plt.plot(YTest, YHatTest,'ro')\n",
    "plt.plot(YTest, YTest,'b-')\n",
    "plt.show()"
   ]
  },
  {
   "cell_type": "markdown",
   "metadata": {},
   "source": [
    "#### 8.Elastic Net "
   ]
  },
  {
   "cell_type": "code",
   "execution_count": 60,
   "metadata": {},
   "outputs": [],
   "source": [
    "clf = linear_model.ElasticNet(alpha=1.0, l1_ratio=0.5, fit_intercept=True)\n",
    "#Fit\n",
    "clf.fit(X_transformed_train, YTrain)\n",
    "#Predict\n",
    "YHatTest=clf.predict(X_transformed_test)"
   ]
  },
  {
   "cell_type": "code",
   "execution_count": 61,
   "metadata": {},
   "outputs": [
    {
     "name": "stdout",
     "output_type": "stream",
     "text": [
      "0.803675512917605\n",
      "0.24853568721449218 62768991096.91937\n"
     ]
    }
   ],
   "source": [
    "# calculate the accuray of the model by sum of Square and mean absolute prediction error\n",
    "MAPE = np.mean(abs((YTest - YHatTest)/YTest))\n",
    "MSSE = np.mean(np.square(YHatTest - YTest))\n",
    "print(r2_score(YTest,YHatTest))\n",
    "print(MAPE, MSSE)"
   ]
  },
  {
   "cell_type": "code",
   "execution_count": 62,
   "metadata": {},
   "outputs": [
    {
     "data": {
      "image/png": "[encoded data removed]",
      "text/plain": [
       "<Figure size 432x288 with 1 Axes>"
      ]
     },
     "metadata": {
      "needs_background": "light"
     },
     "output_type": "display_data"
    }
   ],
   "source": [
    "plt.plot(YTest, YHatTest,'ro')\n",
    "plt.plot(YTest, YTest,'b-')\n",
    "plt.show()"
   ]
  },
  {
   "cell_type": "markdown",
   "metadata": {},
   "source": [
    "#### 8. XG Boost "
   ]
  },
  {
   "cell_type": "code",
   "execution_count": 63,
   "metadata": {},
   "outputs": [
    {
     "name": "stdout",
     "output_type": "stream",
     "text": [
      "[13:34:35] WARNING: C:/Jenkins/workspace/xgboost-win64_release_0.90/src/objective/regression_obj.cu:152: reg:linear is now deprecated in favor of reg:squarederror.\n"
     ]
    }
   ],
   "source": [
    "#Instantiate\n",
    "clf = xgb.XGBRegressor()\n",
    "#Fit\n",
    "clf.fit(X_transformed_train, YTrain)\n",
    "#Predict\n",
    "YHatTest=clf.predict(X_transformed_test)"
   ]
  },
  {
   "cell_type": "code",
   "execution_count": 64,
   "metadata": {},
   "outputs": [
    {
     "name": "stdout",
     "output_type": "stream",
     "text": [
      "0.8071904926981709\n",
      "0.2486015240557512 61645179504.02523\n"
     ]
    }
   ],
   "source": [
    "# calculate the accuray of the model by sum of Square and mean absolute prediction error\n",
    "MAPE = np.mean(abs((YTest - YHatTest)/YTest))\n",
    "MSSE = np.mean(np.square(YHatTest - YTest))\n",
    "print(r2_score(YTest,YHatTest))\n",
    "print(MAPE, MSSE)"
   ]
  },
  {
   "cell_type": "code",
   "execution_count": 65,
   "metadata": {
    "scrolled": true
   },
   "outputs": [
    {
     "data": {
      "image/png": "[encoded data removed]",
      "text/plain": [
       "<Figure size 432x288 with 1 Axes>"
      ]
     },
     "metadata": {
      "needs_background": "light"
     },
     "output_type": "display_data"
    }
   ],
   "source": [
    "plt.plot(YTest, YHatTest,'ro')\n",
    "plt.plot(YTest, YTest,'b-')\n",
    "plt.show()"
   ]
  },
  {
   "cell_type": "markdown",
   "metadata": {},
   "source": [
    "From these models,the models with most accurate models are :\n",
    "* Random Forest Regressor\n",
    "* Extra Trees Regressor \n",
    "* Lasso Regression"
   ]
  },
  {
   "cell_type": "markdown",
   "metadata": {},
   "source": [
    "Here these models are predicting the sales based on input variables provided.But time factor is not considered."
   ]
  }
 ],
 "metadata": {
  "kernelspec": {
   "display_name": "Python 3",
   "language": "python",
   "name": "python3"
  },
  "language_info": {
   "codemirror_mode": {
    "name": "ipython",
    "version": 3
   },
   "file_extension": ".py",
   "mimetype": "text/x-python",
   "name": "python",
   "nbconvert_exporter": "python",
   "pygments_lexer": "ipython3",
   "version": "3.6.8"
  }
 },
 "nbformat": 4,
 "nbformat_minor": 2
}
